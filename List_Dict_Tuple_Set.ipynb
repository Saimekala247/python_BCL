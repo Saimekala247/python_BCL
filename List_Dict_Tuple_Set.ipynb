{
 "cells": [
  {
   "cell_type": "markdown",
   "id": "370f50ff-85f2-4b92-a58b-82743dc74948",
   "metadata": {
    "tags": []
   },
   "source": [
    "<div class=\"alert alert-success\">\n",
    "    <h1>Assignment 1</h1>\n",
    "    <h3>All interesting Python List function</h3>\n",
    "</div>\n"
   ]
  },
  {
   "cell_type": "code",
   "execution_count": 6,
   "id": "04b31f5f-dbb3-4a2e-b6c8-56bb574922d2",
   "metadata": {},
   "outputs": [
    {
     "name": "stdout",
     "output_type": "stream",
     "text": [
      "[1, 2, 3, 4, 5, 6]\n",
      "[1, 2, 3, 4, 5, [7, 8, 9]]\n"
     ]
    }
   ],
   "source": [
    "# List 'append',\n",
    "list1 = [1, 2, 3, 4, 5]\n",
    "list1.append(6)\n",
    "print(list1)\n",
    "# List in list 'append',\n",
    "list1 = [1, 2, 3, 4, 5]\n",
    "list2 = [7, 8, 9]\n",
    "list1.append(list2)\n",
    "print(list1)"
   ]
  },
  {
   "cell_type": "code",
   "execution_count": 7,
   "id": "0c2c0457-fc3a-426f-bf23-b2283c25c390",
   "metadata": {},
   "outputs": [
    {
     "name": "stdout",
     "output_type": "stream",
     "text": [
      "[1, 2, 3, 4, 5]\n"
     ]
    }
   ],
   "source": [
    "# List 'copy',\n",
    "list1 = [1, 2, 3, 4, 5]\n",
    "list2 = list1.copy()\n",
    "print(list2)"
   ]
  },
  {
   "cell_type": "code",
   "execution_count": 12,
   "id": "bf8b9799-6e03-4190-b227-c578c1fa5747",
   "metadata": {},
   "outputs": [
    {
     "name": "stdout",
     "output_type": "stream",
     "text": [
      "[0, 1, 2, 3, 4, 5]\n"
     ]
    }
   ],
   "source": [
    "# List 'insert',\n",
    "list1 = [1, 2, 3, 4, 5]\n",
    "list1.insert(0, 0)\n",
    "print(list1)"
   ]
  },
  {
   "cell_type": "code",
   "execution_count": 16,
   "id": "ab280421-56ce-4002-9e2f-68c92446b9fc",
   "metadata": {},
   "outputs": [
    {
     "name": "stdout",
     "output_type": "stream",
     "text": [
      "[6, 7, 8, 9, 1, 2, 3, 4, 5]\n"
     ]
    }
   ],
   "source": [
    "# List 'extend',\n",
    "list1 = [1, 2, 3, 4, 5]\n",
    "list2 = [6, 7, 8, 9]\n",
    "list2.extend(list1)\n",
    "print(list2)"
   ]
  },
  {
   "cell_type": "code",
   "execution_count": 2,
   "id": "8414d993-e3b1-4e39-9d42-a208c914148d",
   "metadata": {},
   "outputs": [
    {
     "name": "stdout",
     "output_type": "stream",
     "text": [
      "[1, 2, 3, 4]\n",
      "[2, 3, 4, 5]\n"
     ]
    }
   ],
   "source": [
    "# List 'pop',\n",
    "list1 = [1, 2, 3, 4, 5]\n",
    "list1.pop() # Last Element was removes and returns the element\n",
    "print(list1)\n",
    "\n",
    "\n",
    "# pop(Index)\n",
    "list1 = [1, 2, 3, 4, 5]\n",
    "list1.pop(0) \n",
    "print(list1)"
   ]
  },
  {
   "cell_type": "code",
   "execution_count": 3,
   "id": "83ad6bb2-4b54-4fd0-852b-e3272f31524e",
   "metadata": {},
   "outputs": [
    {
     "data": {
      "text/plain": [
       "3"
      ]
     },
     "execution_count": 3,
     "metadata": {},
     "output_type": "execute_result"
    }
   ],
   "source": [
    "list1.pop(1) # return "
   ]
  },
  {
   "cell_type": "code",
   "execution_count": 5,
   "id": "85bb62c5-d06c-49d2-b3f0-91d56c96200b",
   "metadata": {},
   "outputs": [
    {
     "name": "stdout",
     "output_type": "stream",
     "text": [
      "[1, 2, 3, 4]\n"
     ]
    }
   ],
   "source": [
    "# List 'remove',\n",
    "list1 = [1, 2, 3, 4, 5]\n",
    "list1.remove(5) # Value Of that Num remove from the List\n",
    "print(list1)"
   ]
  },
  {
   "cell_type": "code",
   "execution_count": 6,
   "id": "e45f12b6-8850-4924-a952-ea5610045deb",
   "metadata": {},
   "outputs": [],
   "source": [
    "list1.remove(1) "
   ]
  },
  {
   "cell_type": "code",
   "execution_count": 2,
   "id": "31d431a2-0ea1-4256-81f6-7c0e5a6ef12d",
   "metadata": {},
   "outputs": [
    {
     "name": "stdout",
     "output_type": "stream",
     "text": [
      "1\n"
     ]
    }
   ],
   "source": [
    "# List 'index',\n",
    "list1 = [1, 2, 3, 4, 5]\n",
    "index = list1.index(2) # getting value with index\n",
    "print(index)"
   ]
  },
  {
   "cell_type": "code",
   "execution_count": 7,
   "id": "5910498e-800a-492c-b919-1e2820019c80",
   "metadata": {},
   "outputs": [
    {
     "name": "stdout",
     "output_type": "stream",
     "text": [
      "2\n"
     ]
    }
   ],
   "source": [
    "# List 'count',\n",
    "list1 = [1, 2, 3, 4, 5, 2]\n",
    "num_count = list1.count(2)\n",
    "print(num_count)"
   ]
  },
  {
   "cell_type": "code",
   "execution_count": null,
   "id": "b3a72274-d202-4f49-b72b-70b19fe626f0",
   "metadata": {},
   "outputs": [
    {
     "name": "stdout",
     "output_type": "stream",
     "text": [
      "[5, 4, 3, 2, 1]\n",
      "[2, 3, 4, 4, 5, 6]\n",
      "[6, 5, 4, 4, 3, 2]\n"
     ]
    }
   ],
   "source": [
    "# List 'reverse',\n",
    "list1 = [1, 2, 3, 4, 5]\n",
    "list1.reverse()\n",
    "print(list1)\n",
    "\n",
    "# List sort()'reverse',\n",
    "list1 = [2, 5, 4, 4, 6, 3]\n",
    "list2 = sorted(list1,reverse = False) # Assending\n",
    "list3 = sorted(list1,reverse = True)  # Desending\n",
    "print(list2)\n",
    "print(list3)\n"
   ]
  },
  {
   "cell_type": "code",
   "execution_count": 48,
   "id": "cc35bbe1-f5d1-43d0-9c0a-56769678183f",
   "metadata": {},
   "outputs": [
    {
     "name": "stdout",
     "output_type": "stream",
     "text": [
      "[1, 2, 3, 5, 6]\n"
     ]
    }
   ],
   "source": [
    "# List 'sort()',\n",
    "list1 = [1, 6, 3, 2, 5]\n",
    "list1.sort()\n",
    "print(list1)"
   ]
  },
  {
   "cell_type": "code",
   "execution_count": 49,
   "id": "99db1f6d-1ef0-420a-9674-4097fd972954",
   "metadata": {},
   "outputs": [
    {
     "name": "stdout",
     "output_type": "stream",
     "text": [
      "[]\n"
     ]
    }
   ],
   "source": [
    "# List 'clear',\n",
    "list1 = [1, 6, 3, 2, 5]\n",
    "list1.clear()\n",
    "print(list1)"
   ]
  },
  {
   "cell_type": "code",
   "execution_count": 45,
   "id": "5785f0f3-f7a2-49d5-b851-18bd7b54f046",
   "metadata": {},
   "outputs": [
    {
     "data": {
      "text/plain": [
       "5"
      ]
     },
     "execution_count": 45,
     "metadata": {},
     "output_type": "execute_result"
    }
   ],
   "source": [
    "# List __len__\n",
    "list1 = [1, 6, 3, 2, 5]\n",
    "list1.__len__()"
   ]
  },
  {
   "cell_type": "code",
   "execution_count": 46,
   "id": "1ae8d00a-2976-4aea-81ee-b9af5371529f",
   "metadata": {},
   "outputs": [
    {
     "data": {
      "text/plain": [
       "'[1, 6, 3, 2, 5]'"
      ]
     },
     "execution_count": 46,
     "metadata": {},
     "output_type": "execute_result"
    }
   ],
   "source": [
    "# List __str__\n",
    "list1 = [1, 6, 3, 2, 5]\n",
    "list1.__str__()"
   ]
  },
  {
   "cell_type": "code",
   "execution_count": 47,
   "id": "bb931e49-7d70-4406-a291-67d85a188705",
   "metadata": {},
   "outputs": [
    {
     "data": {
      "text/plain": [
       "'[1, 6, 3, 2, 5]'"
      ]
     },
     "execution_count": 47,
     "metadata": {},
     "output_type": "execute_result"
    }
   ],
   "source": [
    "# List __repr__\n",
    "list1 = [1, 6, 3, 2, 5]\n",
    "list1.__repr__()"
   ]
  },
  {
   "cell_type": "code",
   "execution_count": 51,
   "id": "71ad5442-b84a-4a86-af15-2712a6483e49",
   "metadata": {},
   "outputs": [
    {
     "data": {
      "text/plain": [
       "False"
      ]
     },
     "execution_count": 51,
     "metadata": {},
     "output_type": "execute_result"
    }
   ],
   "source": [
    "# List __eq__\n",
    "list1 = [1, 6, 3, 2, 5]\n",
    "list2 = [1, 6, 3, 2, 5, 6]\n",
    "list1.__eq__(list2)"
   ]
  },
  {
   "cell_type": "code",
   "execution_count": 52,
   "id": "ae7340ae-0c3f-490b-a4cb-c4075c6de3b3",
   "metadata": {},
   "outputs": [
    {
     "data": {
      "text/plain": [
       "104"
      ]
     },
     "execution_count": 52,
     "metadata": {},
     "output_type": "execute_result"
    }
   ],
   "source": [
    "# List __sizeof__\n",
    "list1 = [1, 6, 3, 2, 5]\n",
    "list1.__sizeof__()"
   ]
  },
  {
   "cell_type": "markdown",
   "id": "c45befb4-e3e3-4a71-b301-635ba0a0ed31",
   "metadata": {
    "tags": []
   },
   "source": [
    "<div class=\"alert alert-success\">\n",
    "    <h1>Assignment 2</h1>\n",
    "    <h3>All interesting Python Dict function</h3>\n",
    "</div>"
   ]
  },
  {
   "cell_type": "code",
   "execution_count": 56,
   "id": "65969322-ecb0-4488-a508-cb32b18ae076",
   "metadata": {},
   "outputs": [
    {
     "name": "stdout",
     "output_type": "stream",
     "text": [
      "{'Name': 'Sai mekala', 'Age': 30, 'Address': 'Nalgonda'}\n",
      "{'Name': 'Sai mekala', 'Age': 30, 'Address': 'Nalgonda', 'Sex': 'Male'}\n"
     ]
    }
   ],
   "source": [
    "# Create a Dict\n",
    "dict1 = {\"Name\": \"Sai mekala\", \"Age\": 30, \"Sex\": \"Male\"}\n",
    "print(dict1)\n",
    "\n",
    "# Dict 'update',\n",
    "dict1 = {\"Name\": \"Sai mekala\", \"Age\": 30,\"Sex\": \"Male\"}\n",
    "dict2 = {\"Address\": \"Nalgonda\"}\n",
    "dict1.update(dict2)\n",
    "print(dict1)\n"
   ]
  },
  {
   "cell_type": "code",
   "execution_count": 58,
   "id": "bbd188c7-c552-42eb-8d0e-c1d79350ddbf",
   "metadata": {},
   "outputs": [
    {
     "name": "stdout",
     "output_type": "stream",
     "text": [
      "{'Name': 'Sai mekala', 'Age': 30, 'Sex': 'Male'}\n"
     ]
    }
   ],
   "source": [
    "# Dict 'copy',\n",
    "dict1 = {\"Name\": \"Sai mekala\", \"Age\": 30, \"Sex\": \"Male\"}\n",
    "dict2 = dict1.copy()\n",
    "print(dict2)"
   ]
  },
  {
   "cell_type": "code",
   "execution_count": 62,
   "id": "ac774f5d-cb17-4c3e-9317-7eb32d9c5794",
   "metadata": {},
   "outputs": [
    {
     "name": "stdout",
     "output_type": "stream",
     "text": [
      "dict_keys(['Name', 'Age', 'Sex'])\n"
     ]
    }
   ],
   "source": [
    "# Dict 'keys',\n",
    "dict1 = {\"Name\": \"Sai mekala\", \"Age\": 30, \"Sex\": \"Male\"}\n",
    "print(dict1.keys())"
   ]
  },
  {
   "cell_type": "code",
   "execution_count": 63,
   "id": "79097ed1-2d04-4b77-ade1-2292252673cd",
   "metadata": {},
   "outputs": [
    {
     "name": "stdout",
     "output_type": "stream",
     "text": [
      "dict_values(['Sai mekala', 30, 'Male'])\n"
     ]
    }
   ],
   "source": [
    "# Dict 'values',\n",
    "dict1 = {\"Name\": \"Sai mekala\", \"Age\": 30, \"Sex\": \"Male\"}\n",
    "print(dict1.values())"
   ]
  },
  {
   "cell_type": "code",
   "execution_count": 64,
   "id": "afa35bc4-0be2-4af1-9678-3dbfcfa1ebc9",
   "metadata": {},
   "outputs": [
    {
     "name": "stdout",
     "output_type": "stream",
     "text": [
      "dict_items([('Name', 'Sai mekala'), ('Age', 30), ('Sex', 'Male')])\n"
     ]
    }
   ],
   "source": [
    "# Dict 'items',\n",
    "dict1 = {\"Name\": \"Sai mekala\", \"Age\": 30, \"Sex\": \"Male\"}\n",
    "print(dict1.items())"
   ]
  },
  {
   "cell_type": "code",
   "execution_count": 9,
   "id": "af3a74b7-4b89-4f72-aa2f-76189ce00c06",
   "metadata": {},
   "outputs": [
    {
     "name": "stdout",
     "output_type": "stream",
     "text": [
      "{'Age': 30, 'Sex': 'Male'}\n"
     ]
    }
   ],
   "source": [
    "# Dict 'pop',\n",
    "dict1 = {\"Name\": \"Sai mekala\", \"Age\": 30, \"Sex\": \"Male\"}\n",
    "dict1.pop('Name')\n",
    "print(dict1)"
   ]
  },
  {
   "cell_type": "code",
   "execution_count": 78,
   "id": "c7341376-f293-408e-9a7e-67d8e18529b3",
   "metadata": {},
   "outputs": [
    {
     "data": {
      "text/plain": [
       "True"
      ]
     },
     "execution_count": 78,
     "metadata": {},
     "output_type": "execute_result"
    }
   ],
   "source": [
    "# Dict __eq__,\n",
    "dict1 = {\"Name\": \"Sai mekala\", \"Age\": 30, \"Sex\": \"Male\"}\n",
    "dict2 = {\"Name\": \"Sai mekala\", \"Age\": 30, \"Sex\": \"Male\"}\n",
    "\n",
    "dict1.__eq__(dict2)"
   ]
  },
  {
   "cell_type": "code",
   "execution_count": 79,
   "id": "716397d2-1979-49ae-8405-8ac566551070",
   "metadata": {},
   "outputs": [
    {
     "data": {
      "text/plain": [
       "3"
      ]
     },
     "execution_count": 79,
     "metadata": {},
     "output_type": "execute_result"
    }
   ],
   "source": [
    "# Dict __len__,\n",
    "dict1 = {\"Name\": \"Sai mekala\", \"Age\": 30, \"Sex\": \"Male\"}\n",
    "dict1.__len__()"
   ]
  },
  {
   "cell_type": "code",
   "execution_count": 41,
   "id": "6950d697-066a-44e7-8666-49c502d25874",
   "metadata": {},
   "outputs": [
    {
     "data": {
      "text/plain": [
       "\"{'Name': 'Sai mekala', 'Age': 30, 'Sex': 'Male'}\""
      ]
     },
     "execution_count": 41,
     "metadata": {},
     "output_type": "execute_result"
    }
   ],
   "source": [
    "# Dict __str__,\n",
    "dict1 = {\"Name\": \"Sai mekala\", \"Age\": 30, \"Sex\": \"Male\"}\n",
    "dict1.__str__()\n"
   ]
  },
  {
   "cell_type": "code",
   "execution_count": 42,
   "id": "086fe368-6203-43c9-a93e-59250f516ebc",
   "metadata": {},
   "outputs": [
    {
     "data": {
      "text/plain": [
       "216"
      ]
     },
     "execution_count": 42,
     "metadata": {},
     "output_type": "execute_result"
    }
   ],
   "source": [
    "# Dict __sizeof__,\n",
    "dict1 = {\"Name\": \"Sai mekala\", \"Age\": 30, \"Sex\": \"Male\"}\n",
    "dict1.__sizeof__()"
   ]
  },
  {
   "cell_type": "code",
   "execution_count": 44,
   "id": "ed7fecb3-ea5f-4dda-ae0b-d0a43175afe9",
   "metadata": {},
   "outputs": [
    {
     "data": {
      "text/plain": [
       "\"{'Name': 'Sai mekala', 'Age': 30, 'Sex': 'Male'}\""
      ]
     },
     "execution_count": 44,
     "metadata": {},
     "output_type": "execute_result"
    }
   ],
   "source": [
    "# Dict __repr__,\n",
    "dict1 = {\"Name\": \"Sai mekala\", \"Age\": 30, \"Sex\": \"Male\"}\n",
    "dict1.__repr__()"
   ]
  },
  {
   "cell_type": "markdown",
   "id": "ceec6374-123f-46c7-891a-0877e07e77da",
   "metadata": {
    "tags": []
   },
   "source": [
    "<div class=\"alert alert-success\">\n",
    "    <h1>Assignment 3</h1>\n",
    "    <h3>All interesting Python Tuple function</h3>\n",
    "</div>\n"
   ]
  },
  {
   "cell_type": "code",
   "execution_count": 7,
   "id": "ccbdf286-a23e-4b59-8a89-db5a4590665d",
   "metadata": {},
   "outputs": [
    {
     "name": "stdout",
     "output_type": "stream",
     "text": [
      "(1, 2, 3, 4, 5)\n",
      "2\n"
     ]
    }
   ],
   "source": [
    "# Tuple\n",
    "tuple1 = (1, 2, 3, 4, 5)\n",
    "print(tuple1)\n",
    "\n",
    "# Tuple 'index',\n",
    "tuple1 = (1, 2, 3, 4, 5)\n",
    "index = tuple1.index(3)\n",
    "print(index)"
   ]
  },
  {
   "cell_type": "code",
   "execution_count": 11,
   "id": "20a756eb-2487-4fae-82b0-31436242ac27",
   "metadata": {},
   "outputs": [
    {
     "name": "stdout",
     "output_type": "stream",
     "text": [
      "4\n"
     ]
    }
   ],
   "source": [
    "# Tuple 'count',\n",
    "tuple1 = (1, 2, 3, 4, 5, 2, 2, 2)\n",
    "count = tuple1.count(2)\n",
    "print(count)"
   ]
  },
  {
   "cell_type": "code",
   "execution_count": 54,
   "id": "149a0c07-6279-4c14-be4e-4999c1a0b7d4",
   "metadata": {},
   "outputs": [
    {
     "data": {
      "text/plain": [
       "8"
      ]
     },
     "execution_count": 54,
     "metadata": {},
     "output_type": "execute_result"
    }
   ],
   "source": [
    "# Tuple __len__\n",
    "tuple1 = (1, 2, 3, 4, 5, 2, 2, 2)\n",
    "tuple1.__len__()"
   ]
  },
  {
   "cell_type": "code",
   "execution_count": 55,
   "id": "ebaea00f-2049-4536-9995-06b23f58ab96",
   "metadata": {},
   "outputs": [
    {
     "data": {
      "text/plain": [
       "'(1, 2, 3, 4, 5, 2, 2, 2)'"
      ]
     },
     "execution_count": 55,
     "metadata": {},
     "output_type": "execute_result"
    }
   ],
   "source": [
    "# Tuple __str__\n",
    "tuple1 = (1, 2, 3, 4, 5, 2, 2, 2)\n",
    "tuple1.__str__()"
   ]
  },
  {
   "cell_type": "code",
   "execution_count": 11,
   "id": "7c2fa5ec-77d3-46e9-99cc-a40fd32cc949",
   "metadata": {},
   "outputs": [
    {
     "data": {
      "text/plain": [
       "False"
      ]
     },
     "execution_count": 11,
     "metadata": {},
     "output_type": "execute_result"
    }
   ],
   "source": [
    "# Tuple __eq__\n",
    "tuple1 = (1, 2, 3, 4, 5, 2, 2, 2)\n",
    "tuple2 = (1, 2, 3, 4, 5, 2, 2, 2, 9)\n",
    "tuple1.__eq__(tuple2)"
   ]
  },
  {
   "cell_type": "code",
   "execution_count": 14,
   "id": "f1344218-bfe8-466b-a477-e5ef8869e6f8",
   "metadata": {},
   "outputs": [
    {
     "data": {
      "text/plain": [
       "True"
      ]
     },
     "execution_count": 14,
     "metadata": {},
     "output_type": "execute_result"
    }
   ],
   "source": [
    "# Tuple __le__\n",
    "tuple1 = (1, 2, 3, 4, 5, 2, 2, 2)\n",
    "tuple2 = (1, 2, 3, 4, 5, 2, 3, 2)\n",
    "tuple1.__le__(tuple2)"
   ]
  },
  {
   "cell_type": "code",
   "execution_count": 19,
   "id": "c54be4f1-7c6f-435b-ba5e-45e26de1014a",
   "metadata": {},
   "outputs": [
    {
     "data": {
      "text/plain": [
       "\u001b[1;31mSignature:\u001b[0m      \u001b[0mtuple1\u001b[0m\u001b[1;33m.\u001b[0m\u001b[0m__le__\u001b[0m\u001b[1;33m(\u001b[0m\u001b[0mvalue\u001b[0m\u001b[1;33m,\u001b[0m \u001b[1;33m/\u001b[0m\u001b[1;33m)\u001b[0m\u001b[1;33m\u001b[0m\u001b[1;33m\u001b[0m\u001b[0m\n",
       "\u001b[1;31mCall signature:\u001b[0m \u001b[0mtuple1\u001b[0m\u001b[1;33m.\u001b[0m\u001b[0m__le__\u001b[0m\u001b[1;33m(\u001b[0m\u001b[1;33m*\u001b[0m\u001b[0margs\u001b[0m\u001b[1;33m,\u001b[0m \u001b[1;33m**\u001b[0m\u001b[0mkwargs\u001b[0m\u001b[1;33m)\u001b[0m\u001b[1;33m\u001b[0m\u001b[1;33m\u001b[0m\u001b[0m\n",
       "\u001b[1;31mType:\u001b[0m           method-wrapper\n",
       "\u001b[1;31mString form:\u001b[0m    <method-wrapper '__le__' of tuple object at 0x0000020360243F20>\n",
       "\u001b[1;31mDocstring:\u001b[0m      Return self<=value.\n"
      ]
     },
     "metadata": {},
     "output_type": "display_data"
    }
   ],
   "source": [
    "?tuple1.__le__"
   ]
  },
  {
   "cell_type": "code",
   "execution_count": 59,
   "id": "929b69b4-b88c-4c87-9bda-dd69478745d5",
   "metadata": {},
   "outputs": [
    {
     "data": {
      "text/plain": [
       "88"
      ]
     },
     "execution_count": 59,
     "metadata": {},
     "output_type": "execute_result"
    }
   ],
   "source": [
    "# Tuple __sizeof__\n",
    "tuple1 = (1, 2, 3, 4, 5, 2, 2, 2)\n",
    "tuple1.__sizeof__()"
   ]
  },
  {
   "cell_type": "markdown",
   "id": "6912bb61-83b8-420c-a328-2bd583a70206",
   "metadata": {
    "tags": []
   },
   "source": [
    "<div class=\"alert alert-success\">\n",
    "    <h1>Assignment 4</h1>\n",
    "    <h3>All interesting Python set function</h3>\n",
    "</div>\n"
   ]
  },
  {
   "cell_type": "code",
   "execution_count": 14,
   "id": "a3679d7c-b473-4e4f-9546-48aa181cf016",
   "metadata": {},
   "outputs": [
    {
     "name": "stdout",
     "output_type": "stream",
     "text": [
      "{1, 2, 3, 4, 5}\n",
      "<class 'set'>\n"
     ]
    }
   ],
   "source": [
    "# Set Creat\n",
    "set1 = {1, 2, 3, 4, 5}\n",
    "print(set1)\n",
    "print(type(set1))"
   ]
  },
  {
   "cell_type": "code",
   "execution_count": 19,
   "id": "835199f5-0352-4204-bd0e-d0f356c90785",
   "metadata": {},
   "outputs": [
    {
     "name": "stdout",
     "output_type": "stream",
     "text": [
      "{1, 2, 3, 4, 5, 6}\n"
     ]
    }
   ],
   "source": [
    "# Set 'add',\n",
    "set1 = {1, 2, 3, 4, 5}\n",
    "set1.add(6) \n",
    "print(set1)"
   ]
  },
  {
   "cell_type": "code",
   "execution_count": 20,
   "id": "60b1f856-416f-431b-aa11-1c5949b6e65e",
   "metadata": {},
   "outputs": [
    {
     "name": "stdout",
     "output_type": "stream",
     "text": [
      "{1, 2, 3, 4, 5}\n"
     ]
    }
   ],
   "source": [
    "# Set 'copy',\n",
    "set1 = {1, 2, 3, 4, 5}\n",
    "set2 = set1.copy()\n",
    "print(set2)"
   ]
  },
  {
   "cell_type": "code",
   "execution_count": 5,
   "id": "8d1be6ba-a865-4e55-802b-d8ab727a089f",
   "metadata": {},
   "outputs": [
    {
     "name": "stdout",
     "output_type": "stream",
     "text": [
      "{2, 3, 4, 5}\n"
     ]
    }
   ],
   "source": [
    "# Set  'pop',\n",
    "set1 = {1, 2, 3, 4, 5}\n",
    "set1.pop()\n",
    "print(set1)"
   ]
  },
  {
   "cell_type": "code",
   "execution_count": 7,
   "id": "3b97c95b-26e0-430c-91c5-01df3a4c0d8b",
   "metadata": {},
   "outputs": [
    {
     "name": "stdout",
     "output_type": "stream",
     "text": [
      "{1, 2, 4, 5}\n"
     ]
    }
   ],
   "source": [
    "# Set  'discard',\n",
    "set1 = {1, 2, 3, 4, 5}\n",
    "set1.discard(3)\n",
    "print(set1)"
   ]
  },
  {
   "cell_type": "code",
   "execution_count": 8,
   "id": "5cc61888-1a1a-4265-ba26-369dde444f6f",
   "metadata": {},
   "outputs": [
    {
     "name": "stdout",
     "output_type": "stream",
     "text": [
      "set()\n"
     ]
    }
   ],
   "source": [
    "# Set  'clear',\n",
    "set1 = {1, 2, 3, 4, 5}\n",
    "set1.clear()\n",
    "print(set1)"
   ]
  },
  {
   "cell_type": "code",
   "execution_count": 12,
   "id": "f5216a64-bb55-4a55-9363-2c4d63dc09d4",
   "metadata": {},
   "outputs": [
    {
     "name": "stdout",
     "output_type": "stream",
     "text": [
      "{2, 3, 4, 5}\n",
      "{2, 3, 4, 5}\n"
     ]
    }
   ],
   "source": [
    "# Set 'intersection',\n",
    "set1 = {1, 2, 3, 4, 5}\n",
    "set2 = {0, 2, 4, 3, 5}\n",
    "inter_sec = set1.intersection(set2)\n",
    "print(inter_sec)\n",
    "inter_sec = set1 & set2      # symbal\n",
    "print(inter_sec)\n"
   ]
  },
  {
   "cell_type": "code",
   "execution_count": 13,
   "id": "95a52ebb-39fa-425c-a824-88e6a0185270",
   "metadata": {},
   "outputs": [
    {
     "name": "stdout",
     "output_type": "stream",
     "text": [
      "{1}\n",
      "{1}\n"
     ]
    }
   ],
   "source": [
    "# Set  'difference',\n",
    "set1 = {1, 2, 3, 4, 5}\n",
    "set2 = {0, 2, 4, 3, 5}\n",
    "diff = set1.difference(set2)\n",
    "print(diff)\n",
    "diff = set1 - set2   # symbal\n",
    "print(diff)\n"
   ]
  },
  {
   "cell_type": "code",
   "execution_count": 14,
   "id": "dddf3228-c8d4-4af2-8d4d-de9f01b575fd",
   "metadata": {},
   "outputs": [
    {
     "name": "stdout",
     "output_type": "stream",
     "text": [
      "{0, 1, 2, 3, 4, 5}\n",
      "{0, 1, 2, 3, 4, 5}\n"
     ]
    }
   ],
   "source": [
    "# Set  'union',\n",
    "set1 = {1, 2, 3, 4, 5}\n",
    "set2 = {0, 2, 4, 3, 5}\n",
    "uni = set1.union(set2)\n",
    "print(uni)\n",
    "uni = set1 | set2  # symbal\n",
    "print(uni)"
   ]
  },
  {
   "cell_type": "code",
   "execution_count": 16,
   "id": "b7b2e021-aef8-46c5-8ec9-9a8b74fb6e3b",
   "metadata": {},
   "outputs": [
    {
     "name": "stdout",
     "output_type": "stream",
     "text": [
      "False\n",
      "True\n"
     ]
    }
   ],
   "source": [
    "# Set  'isdisjoint',\n",
    "set1 = {1, 2, 3, 4, 5}\n",
    "set2 = {0, 2, 4, 3, 5}\n",
    "diss = set1.isdisjoint(set2)\n",
    "print(diss)\n",
    "\n",
    "set1 = {1, 2, 3, 4, 5}\n",
    "set2 = {0, 6, 7}\n",
    "diss = set1.isdisjoint(set2)\n",
    "print(diss)\n"
   ]
  },
  {
   "cell_type": "code",
   "execution_count": 4,
   "id": "1e0efc71-4be2-4ff0-b116-bc600835c8a1",
   "metadata": {},
   "outputs": [
    {
     "name": "stdout",
     "output_type": "stream",
     "text": [
      "None\n",
      "{2, 3}\n",
      "{0, 2, 3, 4, 5}\n"
     ]
    }
   ],
   "source": [
    "# Set  'intersection_update',\n",
    "set1 = {1, 2, 3, 7, 9, 10}\n",
    "set2 = {0, 2, 4, 3, 5}\n",
    "int_up = set1.intersection_update(set2)\n",
    "print(int_up)\n",
    "print(set1)\n",
    "print(set2)"
   ]
  },
  {
   "cell_type": "code",
   "execution_count": 5,
   "id": "02038ff5-a9bb-4a52-ac64-98587754c111",
   "metadata": {},
   "outputs": [
    {
     "name": "stdout",
     "output_type": "stream",
     "text": [
      "None\n",
      "{1, 2, 3, 7, 9, 10}\n",
      "{2, 3}\n"
     ]
    }
   ],
   "source": [
    "# Set  'intersection_update',\n",
    "set1 = {1, 2, 3, 7, 9, 10}\n",
    "set2 = {0, 2, 4, 3, 5}\n",
    "int_up = set2.intersection_update(set1)\n",
    "print(int_up)\n",
    "print(set1)\n",
    "print(set2)"
   ]
  },
  {
   "cell_type": "code",
   "execution_count": 6,
   "id": "0c42ea3e-cee0-4daf-8e68-4337ef2cc35d",
   "metadata": {},
   "outputs": [
    {
     "name": "stdout",
     "output_type": "stream",
     "text": [
      "None\n",
      "{1, 7, 9, 10}\n",
      "{0, 2, 3, 4, 5}\n"
     ]
    }
   ],
   "source": [
    "# Set 'difference_update',\n",
    "set1 = {1, 2, 3, 7, 9, 10}\n",
    "set2 = {0, 2, 4, 3, 5}\n",
    "int_up = set1.difference_update(set2)\n",
    "print(int_up)\n",
    "print(set1)\n",
    "print(set2)"
   ]
  },
  {
   "cell_type": "code",
   "execution_count": 8,
   "id": "b4469370-cb7c-4307-a79e-695642ec547a",
   "metadata": {},
   "outputs": [
    {
     "name": "stdout",
     "output_type": "stream",
     "text": [
      "True\n",
      "False\n",
      "False\n",
      "True\n"
     ]
    }
   ],
   "source": [
    "#Set  'issubset',\n",
    "A = {1, 2, 3}\n",
    "B = {1, 2, 3, 4, 5}\n",
    "C = {1, 2, 4, 5}\n",
    "\n",
    "# Returns True\n",
    "print(A.issubset(B))\n",
    "\n",
    "# Returns False\n",
    "# B is not subset of A\n",
    "print(B.issubset(A))\n",
    "\n",
    "# Returns False\n",
    "print(A.issubset(C))\n",
    "\n",
    "# Returns True\n",
    "print(C.issubset(B))"
   ]
  },
  {
   "cell_type": "code",
   "execution_count": 9,
   "id": "eef1445a-0e9c-400d-849d-690ed24289b9",
   "metadata": {},
   "outputs": [
    {
     "name": "stdout",
     "output_type": "stream",
     "text": [
      "True\n",
      "False\n",
      "True\n"
     ]
    }
   ],
   "source": [
    "# Set  'issuperset',\n",
    "A = {1, 2, 3, 4, 5}\n",
    "B = {1, 2, 3}\n",
    "C = {1, 2, 3}\n",
    "\n",
    "# Returns True\n",
    "print(A.issuperset(B))\n",
    "\n",
    "# Returns False\n",
    "print(B.issuperset(A))\n",
    "\n",
    "# Returns True\n",
    "print(C.issuperset(B))"
   ]
  },
  {
   "cell_type": "code",
   "execution_count": 4,
   "id": "33c51e18-f152-404c-a678-959df2bcf2ad",
   "metadata": {},
   "outputs": [
    {
     "data": {
      "text/plain": [
       "6"
      ]
     },
     "execution_count": 4,
     "metadata": {},
     "output_type": "execute_result"
    }
   ],
   "source": [
    "# Set __len__\n",
    "set1 = {1, 2, 3, 7, 9, 10}\n",
    "#set2 = {0, 2, 4, 3, 5}\n",
    "set1.__len__()\n",
    "#set2.__len__()"
   ]
  },
  {
   "cell_type": "code",
   "execution_count": 10,
   "id": "bfd22a2a-ae60-45c7-afc0-5e93fa952efe",
   "metadata": {},
   "outputs": [
    {
     "data": {
      "text/plain": [
       "True"
      ]
     },
     "execution_count": 10,
     "metadata": {},
     "output_type": "execute_result"
    }
   ],
   "source": [
    "# Set __contains__\n",
    "set1 = {1, 2, 3, 7, 9, 10}\n",
    "set1.__contains__(0) # False\n",
    "set1.__contains__(1)"
   ]
  },
  {
   "cell_type": "code",
   "execution_count": 15,
   "id": "f1dc09c4-2e6f-404f-b624-ee62de886a61",
   "metadata": {},
   "outputs": [
    {
     "data": {
      "text/plain": [
       "'{1, 2, 3, 7, 9, 10}'"
      ]
     },
     "execution_count": 15,
     "metadata": {},
     "output_type": "execute_result"
    }
   ],
   "source": [
    "# Set __repr__\n",
    "set1 = {1, 2, 3, 7, 9, 10}\n",
    "set1.__repr__()"
   ]
  },
  {
   "cell_type": "code",
   "execution_count": 38,
   "id": "d9f9ba8f-539c-46a8-952b-5e3fa0920ada",
   "metadata": {},
   "outputs": [
    {
     "data": {
      "text/plain": [
       "'{1, 2, 3, 7, 9, 10}'"
      ]
     },
     "execution_count": 38,
     "metadata": {},
     "output_type": "execute_result"
    }
   ],
   "source": [
    "# Set __str__\n",
    "set1 = {1, 2, 3, 7, 9, 10}\n",
    "set1.__str__()"
   ]
  },
  {
   "cell_type": "code",
   "execution_count": 39,
   "id": "4d73d22b-2c32-4f79-84cf-9c8c83da0e4c",
   "metadata": {},
   "outputs": [
    {
     "data": {
      "text/plain": [
       "456"
      ]
     },
     "execution_count": 39,
     "metadata": {},
     "output_type": "execute_result"
    }
   ],
   "source": [
    "# Set __sizeof__\n",
    "set1 = {1, 2, 3, 7, 9, 10}\n",
    "set1.__sizeof__()"
   ]
  },
  {
   "cell_type": "code",
   "execution_count": null,
   "id": "d77e31ac-2e9c-4358-9f19-ef40bcfd8c03",
   "metadata": {},
   "outputs": [],
   "source": []
  },
  {
   "cell_type": "markdown",
   "id": "324fbcd4-fcc0-48a5-8185-5e8e5912794d",
   "metadata": {},
   "source": [
    "#### List Overlap   \n",
    "\n",
    "Take two lists, say for example these two:\n",
    "\n",
    "\ta = [1, 1, 2, 3, 5, 8, 13, 21, 34, 55, 89]\n",
    "\tb = [1, 2, 3, 4, 5, 6, 7, 8, 9, 10, 11, 12, 13]\n",
    "and write a program that returns a list that contains only the elements that are common between the lists (without duplicates). Make sure your program works on two lists of different sizes."
   ]
  },
  {
   "cell_type": "code",
   "execution_count": 6,
   "id": "099af7a8-6380-43ed-b337-88df73272598",
   "metadata": {},
   "outputs": [
    {
     "name": "stdout",
     "output_type": "stream",
     "text": [
      "{1, 2, 3, 5, 8, 13}\n",
      "[1, 2, 3, 5, 8, 13]\n"
     ]
    }
   ],
   "source": [
    "a = [1, 1, 2, 3, 5, 8, 13, 21, 34, 55, 89]\n",
    "b = [1, 2, 3, 4, 5, 6, 7, 8, 9, 10, 11, 12, 13]\n",
    "print(set(a[x] for x in range(len(a)) if a[x] in b))\n",
    "# single line\n",
    "print(list(set(a).intersection(set(b))))"
   ]
  },
  {
   "cell_type": "code",
   "execution_count": null,
   "id": "5c01b020-63fa-4955-9da2-fb40b2a24f21",
   "metadata": {},
   "outputs": [],
   "source": []
  },
  {
   "cell_type": "markdown",
   "id": "ce3e15fe-eaab-4ea5-b788-3c500740ed61",
   "metadata": {},
   "source": [
    "#### List Comprehensions\n",
    "\n",
    "Let’s say I give you a list saved in a variable: \n",
    "\n",
    "\ta = [1, 4, 9, 16, 25, 36, 49, 64, 81, 100]. \n",
    "    \n",
    "Write one line of Python that takes this list a and makes a new list that has only the even elements of this list in it."
   ]
  },
  {
   "cell_type": "code",
   "execution_count": 17,
   "id": "da9ba372-dbe7-437a-a68d-2ebab3406318",
   "metadata": {},
   "outputs": [
    {
     "name": "stdout",
     "output_type": "stream",
     "text": [
      "[4, 16, 36, 64, 100]\n"
     ]
    }
   ],
   "source": [
    "a = [1, 4, 9, 16, 25, 36, 49, 64, 81, 100]\n",
    "even_list = [num for num in a if num%2==0]\n",
    "print(even_list)\n"
   ]
  },
  {
   "cell_type": "code",
   "execution_count": null,
   "id": "1060ccd4-1893-4e7a-8087-190dcf0f05ce",
   "metadata": {},
   "outputs": [],
   "source": []
  },
  {
   "cell_type": "markdown",
   "id": "2d9b014a-80b4-441c-b362-afc6d3c669d0",
   "metadata": {},
   "source": [
    "#### List Overlap Comprehensions \n",
    "\n",
    "Take two lists, say for example these two:\n",
    "\n",
    "\ta = [1, 1, 2, 3, 5, 8, 13, 21, 34, 55, 89]\n",
    "\tb = [1, 2, 3, 4, 5, 6, 7, 8, 9, 10, 11, 12, 13]\n",
    "\n",
    "and write a program that returns a list that contains only the elements that are common between the lists (without duplicates). Make sure your program works on two lists of different sizes. Write this using at least one list comprehension. \n",
    "\n",
    "Extra:\n",
    "\n",
    "Randomly generate two lists to test this"
   ]
  },
  {
   "cell_type": "code",
   "execution_count": 12,
   "id": "7e044e24-50a1-415a-b6ad-c83411d0bb40",
   "metadata": {},
   "outputs": [
    {
     "name": "stdout",
     "output_type": "stream",
     "text": [
      "[1, 2, 3, 5, 8, 13]\n"
     ]
    }
   ],
   "source": [
    "a = [1, 1, 2, 3, 5, 8, 13, 21, 34, 55, 89]\n",
    "b = [1, 2, 3, 4, 5, 6, 7, 8, 9, 10, 11, 12, 13]\n",
    "print(list(set(a).intersection(set(b))))"
   ]
  },
  {
   "cell_type": "code",
   "execution_count": null,
   "id": "e309e1b8-bf0d-490e-b272-98c8d23f0a06",
   "metadata": {},
   "outputs": [],
   "source": []
  },
  {
   "cell_type": "markdown",
   "id": "89a9e1e1-e43b-43da-9a3d-558dab0f2220",
   "metadata": {},
   "source": [
    "#### List Ends Solutions\n",
    "\n",
    "Write a program that takes a list of numbers (for example, a = [5, 10, 15, 20, 25]) and makes a new list of only the first and last elements of the given list. For practice, write this code inside a function."
   ]
  },
  {
   "cell_type": "code",
   "execution_count": 11,
   "id": "5c4e86a9-b48d-4291-9e1e-34dec4a701fd",
   "metadata": {},
   "outputs": [
    {
     "name": "stdout",
     "output_type": "stream",
     "text": [
      "[5, 25]\n"
     ]
    }
   ],
   "source": [
    "a = [5, 10, 15, 20, 25]\n",
    "\n",
    "def first_last(input_list):\n",
    "    return [input_list[0], input_list[-1]]\n",
    "\n",
    "print(first_last(a))"
   ]
  },
  {
   "cell_type": "code",
   "execution_count": 78,
   "id": "8d5b7c08-048c-4bb7-8296-f8fc0877d22f",
   "metadata": {},
   "outputs": [
    {
     "name": "stdout",
     "output_type": "stream",
     "text": [
      "5 25\n"
     ]
    }
   ],
   "source": [
    "a = [5, 10, 15, 20, 25]\n",
    "first = a[0]\n",
    "last = a[-1]\n",
    "print(first, last)"
   ]
  },
  {
   "cell_type": "markdown",
   "id": "e65325b4-940e-40bf-95a7-0da1d529e72b",
   "metadata": {},
   "source": [
    "#### List Remove Duplicates Solutions\n",
    "\n",
    "Write a program (function!) that takes a list and returns a new list that contains all the elements of the first list minus all the duplicates.\n",
    "\n",
    "Extras:\n",
    "\n",
    " - Write two different functions to do this - one using a loop and constructing a list, and another using sets.\n",
    " - Go back and do Exercise 5 using sets, and write the solution for that in a different function."
   ]
  },
  {
   "cell_type": "code",
   "execution_count": 15,
   "id": "ecc6895e-ecdd-49cd-b42b-84869b88b115",
   "metadata": {},
   "outputs": [
    {
     "name": "stdout",
     "output_type": "stream",
     "text": [
      "{1, 2, 3, 4, 8, 9, 10}\n"
     ]
    }
   ],
   "source": [
    "list1 = [1, 1, 1, 2, 2, 3, 4, 8, 9, 9, 10]\n",
    "\n",
    "def unique(x):\n",
    "    myset = set(x)\n",
    "    return myset\n",
    "\n",
    "print(unique(list1))"
   ]
  },
  {
   "cell_type": "code",
   "execution_count": null,
   "id": "4010c156-248c-4e57-946c-5df1378243c2",
   "metadata": {},
   "outputs": [],
   "source": []
  }
 ],
 "metadata": {
  "kernelspec": {
   "display_name": "Python 3 (ipykernel)",
   "language": "python",
   "name": "python3"
  },
  "language_info": {
   "codemirror_mode": {
    "name": "ipython",
    "version": 3
   },
   "file_extension": ".py",
   "mimetype": "text/x-python",
   "name": "python",
   "nbconvert_exporter": "python",
   "pygments_lexer": "ipython3",
   "version": "3.9.7"
  }
 },
 "nbformat": 4,
 "nbformat_minor": 5
}
