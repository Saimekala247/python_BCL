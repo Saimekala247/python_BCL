{
 "cells": [
  {
   "cell_type": "markdown",
   "id": "02f2bc93",
   "metadata": {},
   "source": [
    "### Mean"
   ]
  },
  {
   "cell_type": "markdown",
   "id": "22e8b953",
   "metadata": {},
   "source": [
    "### Two arguments"
   ]
  },
  {
   "cell_type": "code",
   "execution_count": 31,
   "id": "ecbfc3f9",
   "metadata": {},
   "outputs": [
    {
     "data": {
      "text/plain": [
       "3.0"
      ]
     },
     "execution_count": 31,
     "metadata": {},
     "output_type": "execute_result"
    }
   ],
   "source": [
    "# Defining function\n",
    "def my_arg(x, y):\n",
    "    z = (x+y)/2\n",
    "    return z\n",
    "    \n",
    "    \n",
    "my_arg(x=2, y=4)"
   ]
  },
  {
   "cell_type": "code",
   "execution_count": 39,
   "id": "dc41c865",
   "metadata": {},
   "outputs": [
    {
     "data": {
      "text/plain": [
       "15.0"
      ]
     },
     "execution_count": 39,
     "metadata": {},
     "output_type": "execute_result"
    }
   ],
   "source": [
    "# Defining function\n",
    "def my_arg(x=10, y=20): # Default args\n",
    "    z = (x+y)/2\n",
    "    return z\n",
    "    \n",
    "\n",
    "my_arg()"
   ]
  },
  {
   "cell_type": "markdown",
   "id": "e82805a2",
   "metadata": {},
   "source": [
    "### List of mean"
   ]
  },
  {
   "cell_type": "code",
   "execution_count": 17,
   "id": "fdabc079",
   "metadata": {},
   "outputs": [],
   "source": [
    "numbers = [1,2,3,4]"
   ]
  },
  {
   "cell_type": "code",
   "execution_count": 18,
   "id": "83d6545a",
   "metadata": {},
   "outputs": [
    {
     "name": "stdout",
     "output_type": "stream",
     "text": [
      "2.5\n"
     ]
    }
   ],
   "source": [
    "print(sum(numbers)/len(numbers))"
   ]
  },
  {
   "cell_type": "markdown",
   "id": "b2a6de0f",
   "metadata": {},
   "source": [
    "### Defining mean"
   ]
  },
  {
   "cell_type": "code",
   "execution_count": 1,
   "id": "3d952311",
   "metadata": {},
   "outputs": [
    {
     "data": {
      "text/plain": [
       "41.666666666666664"
      ]
     },
     "execution_count": 1,
     "metadata": {},
     "output_type": "execute_result"
    }
   ],
   "source": [
    "# Defining function\n",
    "def my_mean(numbers):\n",
    "                                     # return sum(numbers)/len(numbers)\n",
    "    \n",
    "    total = 0\n",
    "    for  i in numbers:\n",
    "        total += i \n",
    "\n",
    "    return (total/len(numbers))\n",
    "    \n",
    "\n",
    "    \n",
    "numbers = [10,20,40,50,70,60]\n",
    "\n",
    "#call my_mean()\n",
    "my_mean(numbers)"
   ]
  },
  {
   "cell_type": "code",
   "execution_count": null,
   "id": "088daf21",
   "metadata": {},
   "outputs": [],
   "source": []
  }
 ],
 "metadata": {
  "kernelspec": {
   "display_name": "Python 3 (ipykernel)",
   "language": "python",
   "name": "python3"
  },
  "language_info": {
   "codemirror_mode": {
    "name": "ipython",
    "version": 3
   },
   "file_extension": ".py",
   "mimetype": "text/x-python",
   "name": "python",
   "nbconvert_exporter": "python",
   "pygments_lexer": "ipython3",
   "version": "3.9.7"
  },
  "toc": {
   "base_numbering": 1,
   "nav_menu": {},
   "number_sections": true,
   "sideBar": true,
   "skip_h1_title": false,
   "title_cell": "Table of Contents",
   "title_sidebar": "Contents",
   "toc_cell": false,
   "toc_position": {},
   "toc_section_display": true,
   "toc_window_display": false
  }
 },
 "nbformat": 4,
 "nbformat_minor": 5
}
