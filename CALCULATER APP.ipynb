{
 "cells": [
  {
   "cell_type": "markdown",
   "id": "831a426b",
   "metadata": {},
   "source": [
    "# Make a Calculator"
   ]
  },
  {
   "cell_type": "markdown",
   "id": "0aa8c577",
   "metadata": {},
   "source": [
    "### b. Design a calculator app\n",
    "\n",
    "Write a function that takes 2 numerical arguments and returns their operations. Test your function on some examples.\n",
    "\n",
    "Write another function that takes a more that 2 parameters of numbers and returns the results of all the numbers with desire operation.\n",
    "Operations : - A, D, S M"
   ]
  },
  {
   "cell_type": "markdown",
   "id": "29d10dfd",
   "metadata": {},
   "source": [
    "### User Input"
   ]
  },
  {
   "cell_type": "code",
   "execution_count": 34,
   "id": "214ba669",
   "metadata": {},
   "outputs": [
    {
     "name": "stdout",
     "output_type": "stream",
     "text": [
      "Enter User Input Number_1: 5\n",
      "Enter User Input Number_2: 2\n"
     ]
    }
   ],
   "source": [
    "number_1 = int(input(\"Enter User Input Number_1: \"))\n",
    "number_2 = int(input(\"Enter User Input Number_2: \"))"
   ]
  },
  {
   "cell_type": "markdown",
   "id": "ed113ee0",
   "metadata": {},
   "source": [
    "### Addition"
   ]
  },
  {
   "cell_type": "code",
   "execution_count": 35,
   "id": "9d965c4b",
   "metadata": {},
   "outputs": [
    {
     "name": "stdout",
     "output_type": "stream",
     "text": [
      "5 + 2 = 7\n"
     ]
    }
   ],
   "source": [
    "print('{} + {} ='.format(number_1, number_2), number_1 + number_2)"
   ]
  },
  {
   "cell_type": "markdown",
   "id": "1f85d578",
   "metadata": {},
   "source": [
    "### SUbtraction"
   ]
  },
  {
   "cell_type": "code",
   "execution_count": 36,
   "id": "56ce2bbc",
   "metadata": {},
   "outputs": [
    {
     "name": "stdout",
     "output_type": "stream",
     "text": [
      "5 - 2 = 3\n"
     ]
    }
   ],
   "source": [
    "print('{} - {} ='.format(number_1, number_2), number_1 - number_2)"
   ]
  },
  {
   "cell_type": "markdown",
   "id": "9449e0af",
   "metadata": {},
   "source": [
    "### Multiplication"
   ]
  },
  {
   "cell_type": "code",
   "execution_count": 37,
   "id": "5e0fd4d1",
   "metadata": {},
   "outputs": [
    {
     "name": "stdout",
     "output_type": "stream",
     "text": [
      "5 * 2 = 10\n"
     ]
    }
   ],
   "source": [
    "print('{} * {} ='.format(number_1, number_2), number_1 * number_2)"
   ]
  },
  {
   "cell_type": "markdown",
   "id": "2a014ace",
   "metadata": {},
   "source": [
    "### Division"
   ]
  },
  {
   "cell_type": "code",
   "execution_count": 38,
   "id": "cf2df537",
   "metadata": {},
   "outputs": [
    {
     "name": "stdout",
     "output_type": "stream",
     "text": [
      "5 / 2 = 2.5\n"
     ]
    }
   ],
   "source": [
    "print('{} / {} ='.format(number_1, number_2), number_1 / number_2)"
   ]
  },
  {
   "cell_type": "markdown",
   "id": "e12989f5",
   "metadata": {},
   "source": [
    "# Using Conditional Statements"
   ]
  },
  {
   "cell_type": "code",
   "execution_count": 203,
   "id": "13d80773",
   "metadata": {},
   "outputs": [
    {
     "name": "stdout",
     "output_type": "stream",
     "text": [
      "Enter Operater Symbal: *\n"
     ]
    }
   ],
   "source": [
    "operation = input(\"Enter Operater Symbal: \")"
   ]
  },
  {
   "cell_type": "code",
   "execution_count": 204,
   "id": "cb4d2e0c",
   "metadata": {},
   "outputs": [
    {
     "name": "stdout",
     "output_type": "stream",
     "text": [
      "Enter User Input Number_1: 5\n",
      "Enter User Input Number_2: 2\n"
     ]
    }
   ],
   "source": [
    "number_1 = int(input(\"Enter User Input Number_1: \"))\n",
    "number_2 = int(input(\"Enter User Input Number_2: \"))"
   ]
  },
  {
   "cell_type": "code",
   "execution_count": 205,
   "id": "a4defa1d",
   "metadata": {},
   "outputs": [
    {
     "name": "stdout",
     "output_type": "stream",
     "text": [
      "5 * 2 = 10\n"
     ]
    }
   ],
   "source": [
    "if operator == \"+\":\n",
    "    print('{} + {} ='.format(number_1, number_2), number_1 + number_2)\n",
    "elif operation == \"-\":\n",
    "    print('{} - {} ='.format(number_1, number_2), number_1 - number_2)\n",
    "elif operation == \"*\":\n",
    "    print('{} * {} ='.format(number_1, number_2), number_1 * number_2)\n",
    "elif operation == \"/\":\n",
    "    print('{} / {} ='.format(number_1, number_2), number_1 / number_2)\n",
    "else:\n",
    "    print(\"Enter Valid Operator, Please Run The Program Againe. \")"
   ]
  },
  {
   "cell_type": "markdown",
   "id": "bc3c1a4f",
   "metadata": {},
   "source": [
    "### Defining Functions"
   ]
  },
  {
   "cell_type": "code",
   "execution_count": 210,
   "id": "1b075de1",
   "metadata": {},
   "outputs": [
    {
     "name": "stdout",
     "output_type": "stream",
     "text": [
      "Enter Operater Symbal: %\n",
      "Enter User Input Number_1: 2\n",
      "Enter User Input Number_2: 1\n",
      "Enter Valid Operator, Please Run The Program Againe. \n"
     ]
    }
   ],
   "source": [
    "# Define our function\n",
    "def calculate(number_1, number_2):\n",
    "\n",
    "    operation = input(\"Enter Operater Symbal: \")\n",
    "\n",
    "\n",
    "    if operator == \"+\":\n",
    "        print('{} + {} ='.format(number_1, number_2), number_1 + number_2)\n",
    "    elif operation == \"-\":\n",
    "        print('{} - {} ='.format(number_1, number_2), number_1 - number_2)\n",
    "    elif operation == \"*\":\n",
    "        print('{} * {} ='.format(number_1, number_2), number_1 * number_2)\n",
    "    elif operation == \"/\":\n",
    "        print('{} / {} ='.format(number_1, number_2), number_1 / number_2)\n",
    "    else:\n",
    "        print(\"Enter Valid Operator, Please Run The Program Againe. \")\n",
    "        \n",
    "number_1 = int(input(\"Enter User Input Number_1: \"))\n",
    "number_2 = int(input(\"Enter User Input Number_2: \"))\n",
    "# call calculate() out side of the function\n",
    "calculate(number_1, number_2)"
   ]
  },
  {
   "cell_type": "markdown",
   "id": "f8cb44c9",
   "metadata": {},
   "source": [
    "### Python program for simple calculator"
   ]
  },
  {
   "cell_type": "code",
   "execution_count": 2,
   "id": "00e59c03",
   "metadata": {},
   "outputs": [
    {
     "name": "stdout",
     "output_type": "stream",
     "text": [
      "Please select operation -\n",
      "1. Add\n",
      "2. Subtract\n",
      "3. Multiply\n",
      "4. Divide\n",
      "\n",
      "Select operations form 1, 2, 3, 4 :2\n",
      "Enter first number: 5\n",
      "Enter second number: 2\n",
      "5 - 2 = 3\n"
     ]
    }
   ],
   "source": [
    "# Function to add two numbers\n",
    "def add(num1, num2):\n",
    "    return num1 + num2\n",
    "\n",
    "# Function to subtract two numbers\n",
    "def subtract(num1, num2):\n",
    "    return num1 - num2\n",
    "\n",
    "# Function to multiply two numbers\n",
    "def multiply(num1, num2):\n",
    "    return num1 * num2\n",
    "\n",
    "# Function to divide two numbers\n",
    "def divide(num1, num2):\n",
    "    return num1 / num2\n",
    "\n",
    "print(\"Please select operation -\\n\" \\\n",
    "        \"1. Add\\n\" \\\n",
    "        \"2. Subtract\\n\" \\\n",
    "        \"3. Multiply\\n\" \\\n",
    "        \"4. Divide\\n\")\n",
    "\n",
    "\n",
    "# Take input from the user\n",
    "select = int(input(\"Select operations form 1, 2, 3, 4 :\"))\n",
    "\n",
    "number_1 = int(input(\"Enter first number: \"))\n",
    "number_2 = int(input(\"Enter second number: \"))\n",
    "\n",
    "if select == 1:\n",
    "    print(number_1, \"+\", number_2, \"=\", add(number_1, number_2))\n",
    "\n",
    "elif select == 2:\n",
    "    print(number_1, \"-\", number_2, \"=\", subtract(number_1, number_2))\n",
    "\n",
    "elif select == 3:\n",
    "    print(number_1, \"*\", number_2, \"=\", multiply(number_1, number_2))\n",
    "\n",
    "elif select == 4:\n",
    "    print(number_1, \"/\", number_2, \"=\", divide(number_1, number_2))\n",
    "else:\n",
    "    print(\"Invalid input\")\n"
   ]
  },
  {
   "cell_type": "code",
   "execution_count": null,
   "id": "e594d61c",
   "metadata": {},
   "outputs": [],
   "source": []
  }
 ],
 "metadata": {
  "kernelspec": {
   "display_name": "Python 3 (ipykernel)",
   "language": "python",
   "name": "python3"
  },
  "language_info": {
   "codemirror_mode": {
    "name": "ipython",
    "version": 3
   },
   "file_extension": ".py",
   "mimetype": "text/x-python",
   "name": "python",
   "nbconvert_exporter": "python",
   "pygments_lexer": "ipython3",
   "version": "3.9.7"
  },
  "toc": {
   "base_numbering": 1,
   "nav_menu": {},
   "number_sections": true,
   "sideBar": true,
   "skip_h1_title": false,
   "title_cell": "Table of Contents",
   "title_sidebar": "Contents",
   "toc_cell": false,
   "toc_position": {},
   "toc_section_display": true,
   "toc_window_display": false
  }
 },
 "nbformat": 4,
 "nbformat_minor": 5
}
