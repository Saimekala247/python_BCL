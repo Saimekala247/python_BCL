{
 "cells": [
  {
   "cell_type": "code",
   "execution_count": 1,
   "id": "f92403b4-c9db-4d62-9208-930b715c150d",
   "metadata": {},
   "outputs": [],
   "source": [
    "#  excerise\n",
    "# create college id \n",
    "# develop this for atleast 10 students and 3 colleges\n",
    "\n",
    "# College Name\n",
    "\n",
    "# Name : \n",
    "\n",
    "# id/ roll : \n",
    "# blood grp : \n",
    "# moblie : \n",
    "# address :\n",
    "class College:\n",
    "    \n",
    "    college_name=\"SRTIST\"\n",
    "    def __init__(self, stu_name=None, stu_id=None, stu_bld_grp=None, stu_mobile=None, stu_address=None):\n",
    "        self.stu_name = stu_name\n",
    "        self.stu_id = stu_id     \n",
    "        self.stu_bld_grp = stu_bld_grp\n",
    "        self.stu_mobile = stu_mobile\n",
    "        self.stu_address = stu_address"
   ]
  },
  {
   "cell_type": "code",
   "execution_count": 2,
   "id": "48cdb849-2d6b-44af-a51d-561a37d3e579",
   "metadata": {},
   "outputs": [],
   "source": [
    "stu_sai = College(stu_name=\"Sai Mekala\", stu_id=\"SRTIST-100\", stu_bld_grp=\"O+\", stu_mobile=\"9123456780\", stu_address=\"Nalgonda\")"
   ]
  },
  {
   "cell_type": "code",
   "execution_count": 3,
   "id": "5d696eb1-58f1-47f2-9858-68e65a8a7e44",
   "metadata": {},
   "outputs": [
    {
     "data": {
      "text/plain": [
       "'Sai Mekala'"
      ]
     },
     "execution_count": 3,
     "metadata": {},
     "output_type": "execute_result"
    }
   ],
   "source": [
    "stu_sai.stu_name"
   ]
  },
  {
   "cell_type": "code",
   "execution_count": 7,
   "id": "6c8c9d97-8649-4dcc-bb47-e2da8687cf03",
   "metadata": {},
   "outputs": [],
   "source": [
    "# Constructor \n",
    "class College:\n",
    "    \n",
    "    college_name=\"SRTIST\"\n",
    "    def __init__(self, stu_name=None, stu_id=None, stu_bld_grp=None, stu_mobile=None, stu_address=None):\n",
    "        self.stu_name = stu_name\n",
    "        self.stu_id = stu_id\n",
    "        self.stu_bld_grp = stu_bld_grp\n",
    "        self.stu_mobile = stu_mobile\n",
    "        self.stu_address = stu_address\n",
    "    def get_id(self):\n",
    "        return self.stu_id"
   ]
  },
  {
   "cell_type": "code",
   "execution_count": 8,
   "id": "be60405d-47cf-45b0-a7b1-9220f4806413",
   "metadata": {},
   "outputs": [],
   "source": [
    "stu_sai = College(stu_name=\"Sai Mekala\", stu_id=\"SRTIST-100\", stu_bld_grp=\"O+\", stu_mobile=\"9123456780\", stu_address=\"Nalgonda\")"
   ]
  },
  {
   "cell_type": "code",
   "execution_count": 9,
   "id": "fffccba5-1ccd-4805-bb87-d2f81f10481e",
   "metadata": {},
   "outputs": [
    {
     "data": {
      "text/plain": [
       "'SRTIST-100'"
      ]
     },
     "execution_count": 9,
     "metadata": {},
     "output_type": "execute_result"
    }
   ],
   "source": [
    "stu_sai.get_id()"
   ]
  },
  {
   "cell_type": "code",
   "execution_count": 1,
   "id": "023064bb-4b17-4435-bd1a-603cf0062f22",
   "metadata": {},
   "outputs": [],
   "source": [
    "class College:\n",
    "    \n",
    "    college_name=\"SRTIST\"\n",
    "\n",
    "    def __init__(self, stu_name=None, stu_id=None, stu_bld_grp=None, stu_mobile=None, stu_address=None):\n",
    "        if stu_id[:6] == \"SRTIST\":\n",
    "            self.stu_id = stu_id\n",
    "        elif stu_id[:3] == \"NIT\":\n",
    "            self.stu_id = stu_id\n",
    "        elif stu_id[:4] == \"NOVA\":\n",
    "            self.stu_id = stu_id\n",
    "\n",
    "            \n",
    "        else:\n",
    "            raise ValueError(\"Invalid id Number\")    \n",
    "\n",
    "            \n",
    "        self.stu_name = stu_name\n",
    "        self.stu_bld_grp = stu_bld_grp\n",
    "        self.stu_mobile = stu_mobile\n",
    "        self.stu_address = stu_address\n",
    "\n",
    "    def get_info(self):\n",
    "        print(f' Student Name: {self.stu_name},  Student Id: {self.stu_id},  Student Blood Group: {self.stu_bld_grp}, Student Mobile Number: {self.stu_mobile}, Student Address: {self.stu_address} ')\n",
    "\n",
    "    @classmethod\n",
    "    def print_clg(cls):\n",
    "        \n",
    "        print(f\"The name of the college : {cls.college_name}\")"
   ]
  },
  {
   "cell_type": "code",
   "execution_count": 2,
   "id": "017009d6-775b-45e4-b9e2-f6c15b6f2053",
   "metadata": {},
   "outputs": [],
   "source": [
    "stu_sai = College(stu_name=\"Sai Mekala\", stu_id=\"SRTIST-100\", stu_bld_grp=\"O+\", stu_mobile=\"9123456780\", stu_address=\"Nalgonda\")\n",
    "stu_shailu = College(stu_name=\"Shailu M\", stu_id=\"SRTIST-101\", stu_bld_grp=\"B+\", stu_mobile=\"9123456781\", stu_address=\"Nalgonda\")\n",
    "stu_satish = College(stu_name=\"Satish M\", stu_id=\"SRTIST-102\", stu_bld_grp=\"O+\", stu_mobile=\"9123456782\", stu_address=\"Nalgonda\")\n",
    "stu_saiyogita = College(stu_name=\"Saiyogita K\", stu_id=\"SRTIST-103\", stu_bld_grp=\"B+\", stu_mobile=\"9123456783\", stu_address=\"Nalgonda\")\n",
    "stu_srivindya = College(stu_name=\"Srivindya K\", stu_id=\"SRTIST-104\", stu_bld_grp=\"O+\", stu_mobile=\"9123456784\", stu_address=\"Nalgonda\")"
   ]
  },
  {
   "cell_type": "code",
   "execution_count": 3,
   "id": "b4ecb799-ea79-4ca1-9566-b3c60b0050b9",
   "metadata": {},
   "outputs": [
    {
     "name": "stdout",
     "output_type": "stream",
     "text": [
      "The name of the college : SRTIST\n"
     ]
    }
   ],
   "source": [
    "stu_sai.print_clg()"
   ]
  },
  {
   "cell_type": "code",
   "execution_count": 4,
   "id": "7b841996-ba28-4b40-9ba8-3b4f36c86528",
   "metadata": {},
   "outputs": [
    {
     "name": "stdout",
     "output_type": "stream",
     "text": [
      " Student Name: Srivindya K,  Student Id: SRTIST-104,  Student Blood Group: O+, Student Mobile Number: 9123456784, Student Address: Nalgonda \n"
     ]
    }
   ],
   "source": [
    "stu_srivindya.get_info()"
   ]
  },
  {
   "cell_type": "code",
   "execution_count": 5,
   "id": "4b76e01c",
   "metadata": {},
   "outputs": [
    {
     "data": {
      "text/plain": [
       "'Sai Mekala'"
      ]
     },
     "execution_count": 5,
     "metadata": {},
     "output_type": "execute_result"
    }
   ],
   "source": [
    "stu_sai.stu_name"
   ]
  },
  {
   "cell_type": "code",
   "execution_count": 6,
   "id": "7cab8804-bba2-49de-a2fb-3bd562a35e98",
   "metadata": {},
   "outputs": [],
   "source": [
    "class NIT(College):\n",
    "    \n",
    "    college_name=\"NIT\"\n",
    "    def __init__(self, stu_name=None, stu_id=None, stu_bld_grp=None, stu_mobile=None, stu_address=None):\n",
    "        super().__init__(stu_name, stu_id, stu_bld_grp, stu_mobile, stu_address)\n",
    "        \n",
    "    @classmethod\n",
    "    def print_clg(cls):\n",
    "        \n",
    "        print(f\"The name of the college : {cls.college_name}\")"
   ]
  },
  {
   "cell_type": "code",
   "execution_count": 7,
   "id": "ccf6b54d-76f0-419a-b456-78e34db7b205",
   "metadata": {},
   "outputs": [],
   "source": [
    "stu_john = NIT(stu_name=\"John P\", stu_id=\"NIT-100\", stu_bld_grp=\"AB+\", stu_mobile=\"9123456771\", stu_address=\"Nalgonda\")\n",
    "stu_khan = NIT(stu_name=\"KHAN M\", stu_id=\"NIT-110\", stu_bld_grp=\"AB-\", stu_mobile=\"912345679\", stu_address=\"Nalgonda\")"
   ]
  },
  {
   "cell_type": "code",
   "execution_count": 8,
   "id": "250a4a13",
   "metadata": {},
   "outputs": [
    {
     "name": "stdout",
     "output_type": "stream",
     "text": [
      "The name of the college : NIT\n"
     ]
    }
   ],
   "source": [
    "stu_john.print_clg()"
   ]
  },
  {
   "cell_type": "code",
   "execution_count": 9,
   "id": "01846d99",
   "metadata": {},
   "outputs": [
    {
     "name": "stdout",
     "output_type": "stream",
     "text": [
      " Student Name: John P,  Student Id: NIT-100,  Student Blood Group: AB+, Student Mobile Number: 9123456771, Student Address: Nalgonda \n"
     ]
    }
   ],
   "source": [
    "stu_john.get_info()"
   ]
  },
  {
   "cell_type": "code",
   "execution_count": 10,
   "id": "94cb8157",
   "metadata": {},
   "outputs": [
    {
     "data": {
      "text/plain": [
       "'John P'"
      ]
     },
     "execution_count": 10,
     "metadata": {},
     "output_type": "execute_result"
    }
   ],
   "source": [
    "stu_john.stu_name"
   ]
  },
  {
   "cell_type": "code",
   "execution_count": 11,
   "id": "296e5e7a",
   "metadata": {},
   "outputs": [
    {
     "name": "stdout",
     "output_type": "stream",
     "text": [
      " Student Name: KHAN M,  Student Id: NIT-110,  Student Blood Group: AB-, Student Mobile Number: 912345679, Student Address: Nalgonda \n"
     ]
    }
   ],
   "source": [
    "stu_khan.get_info()"
   ]
  },
  {
   "cell_type": "code",
   "execution_count": 12,
   "id": "175f95ff",
   "metadata": {},
   "outputs": [],
   "source": [
    "class NOVA(College):\n",
    "    \n",
    "    college_name=\"NOVA\"\n",
    "    def __init__(self, stu_name=None, stu_id=None, stu_bld_grp=None, stu_mobile=None, stu_address=None):\n",
    "        super().__init__(stu_name, stu_id, stu_bld_grp, stu_mobile, stu_address)\n",
    "        \n",
    "    @classmethod\n",
    "    def print_clg(cls):\n",
    "        \n",
    "        print(f\"The name of the college : {cls.college_name}\")"
   ]
  },
  {
   "cell_type": "code",
   "execution_count": 13,
   "id": "006d1bf3",
   "metadata": {},
   "outputs": [],
   "source": [
    "stu_charan = NOVA(stu_name=\"CHARAN B\", stu_id=\"NOVA-100\", stu_bld_grp=\"A-\", stu_mobile=\"9123456765\", stu_address=\"Nalgonda\")"
   ]
  },
  {
   "cell_type": "code",
   "execution_count": 14,
   "id": "177239a8",
   "metadata": {},
   "outputs": [
    {
     "name": "stdout",
     "output_type": "stream",
     "text": [
      "The name of the college : NOVA\n"
     ]
    }
   ],
   "source": [
    "stu_charan.print_clg()"
   ]
  },
  {
   "cell_type": "code",
   "execution_count": 15,
   "id": "ca71ba60",
   "metadata": {},
   "outputs": [
    {
     "name": "stdout",
     "output_type": "stream",
     "text": [
      " Student Name: CHARAN B,  Student Id: NOVA-100,  Student Blood Group: A-, Student Mobile Number: 9123456765, Student Address: Nalgonda \n"
     ]
    }
   ],
   "source": [
    "stu_charan.get_info()"
   ]
  },
  {
   "cell_type": "code",
   "execution_count": null,
   "id": "aa024111",
   "metadata": {},
   "outputs": [],
   "source": []
  }
 ],
 "metadata": {
  "kernelspec": {
   "display_name": "Python 3 (ipykernel)",
   "language": "python",
   "name": "python3"
  },
  "language_info": {
   "codemirror_mode": {
    "name": "ipython",
    "version": 3
   },
   "file_extension": ".py",
   "mimetype": "text/x-python",
   "name": "python",
   "nbconvert_exporter": "python",
   "pygments_lexer": "ipython3",
   "version": "3.9.7"
  },
  "toc": {
   "base_numbering": 1,
   "nav_menu": {},
   "number_sections": true,
   "sideBar": true,
   "skip_h1_title": false,
   "title_cell": "Table of Contents",
   "title_sidebar": "Contents",
   "toc_cell": false,
   "toc_position": {},
   "toc_section_display": true,
   "toc_window_display": false
  },
  "toc-autonumbering": true,
  "toc-showcode": true,
  "toc-showmarkdowntxt": false,
  "toc-showtags": false
 },
 "nbformat": 4,
 "nbformat_minor": 5
}
