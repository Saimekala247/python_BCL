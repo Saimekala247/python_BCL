{
 "cells": [
  {
   "cell_type": "code",
   "execution_count": 10,
   "id": "e86e1968-903f-48fc-969b-bcb37e9e8e3d",
   "metadata": {},
   "outputs": [
    {
     "name": "stdout",
     "output_type": "stream",
     "text": [
      "PUP Grade Generator\n"
     ]
    },
    {
     "name": "stdin",
     "output_type": "stream",
     "text": [
      "Enter your grade: 98.2\n"
     ]
    },
    {
     "name": "stdout",
     "output_type": "stream",
     "text": [
      "You've got ' 1.0 ' mark.\n",
      "That's Excellent! ★ ★ ★\n"
     ]
    }
   ],
   "source": [
    "#Program 1\n",
    "#Conditional Statements\n",
    "#Create a program that will ask for grade percentage. Display the equivalent Grade/Mark and Description\n",
    "#Ask for the grade\n",
    "#Compute grade for the equivalent mark and description\n",
    "#Print the mark and description\n",
    "\n",
    "import math\n",
    "print(\"PUP Grade Generator\")\n",
    "Grade = float(input(\"Enter your grade:\"))\n",
    "\n",
    "grade = math.ceil(Grade)\n",
    "\n",
    "if grade <= 65:\n",
    "    print(\"You've got an ' Incomple / Withdrawn / Dropped ' mark.\")\n",
    "    print(\"Withdrawn\")\n",
    "    print(\"Please Try to Study Harder\")\n",
    "\n",
    "elif grade >= 65 and grade <= 74:\n",
    "    print(\"You've got a ' 5.0 ' mark.\")\n",
    "    print(\"Failed\")\n",
    "    print(\"Please Try to Study Harder\")\n",
    "\n",
    "elif grade <= 75:\n",
    "    print(\"You've  got a ' 3.0 ' mark.\")\n",
    "    print(\"Passed\")\n",
    "    print(\"Try to Study Harder\")\n",
    "    \n",
    "elif grade >= 76 and grade <= 78:\n",
    "    print(\"You've got a ' 2.75 ' mark.\")\n",
    "    print(\"Satisfactory! ★\")\n",
    "\n",
    "elif grade >= 79 and grade <= 81:\n",
    "    print(\"You've got a ' 2.5 ' mark.\")\n",
    "    print(\"Satisfactory! ★\") \n",
    "\n",
    "elif grade >= 82 and grade <= 84:\n",
    "    print(\"You've got a ' 2.25 ' mark.\")\n",
    "    print(\"That's Good!★\")\n",
    "\n",
    "elif grade >= 85 and grade <= 87:\n",
    "    print(\"You've got a ' 2.0 ' mark.\")\n",
    "    print(\"That's Good! ★\")\n",
    "\n",
    "elif grade >= 88 and grade <= 90:\n",
    "    print(\"You've got a ' 1.75 ' mark.\")\n",
    "    print(\"That's Very Good! ★ ★ ★\")\n",
    "    \n",
    "elif grade >= 91 and grade <= 93:\n",
    "    print(\"You've got a ' 1.5 ' mark.\")\n",
    "    print(\"That's Very Good! ★ ★ ★\")\n",
    "\n",
    "elif grade >= 94 and grade <= 96:\n",
    "    print(\"You've got a ' 1.25 ' mark.\")\n",
    "    print(\"That's Excellent! ★ ★ ★\")\n",
    "\n",
    "elif grade >= 97 and grade <= 99:\n",
    "    print(\"You've got ' 1.0 ' mark.\")\n",
    "    print(\"That's Excellent! ★ ★ ★\")\n",
    "\n",
    "else: \n",
    "    print(\"★ Celebrate your Success! ★\")\n",
    "    \n",
    "    "
   ]
  },
  {
   "cell_type": "code",
   "execution_count": 2,
   "id": "60c67ac1-53bd-4f6d-91f6-95fb3feb4330",
   "metadata": {},
   "outputs": [
    {
     "name": "stdout",
     "output_type": "stream",
     "text": [
      "LOWEST NUMBER GENERATOR\n",
      "below you can find the lowest number among three numbers that you're allowed to input\n"
     ]
    },
    {
     "name": "stdin",
     "output_type": "stream",
     "text": [
      "First Number:  2\n",
      "Second Number:  3\n",
      "Third Number:  5\n"
     ]
    },
    {
     "name": "stdout",
     "output_type": "stream",
     "text": [
      "The lowest number is 2.0\n"
     ]
    }
   ],
   "source": [
    "# Program 2 : Find the lowest number\n",
    "# Conditional Statements\n",
    "# Create a program that will ask 3 numbers\n",
    "# Find the lowest number using only if-else statement\n",
    "# Display the lowest number among the three\n",
    "\n",
    "\n",
    "print(\"LOWEST NUMBER GENERATOR\")\n",
    "print(\"below you can find the lowest number among three numbers that you're allowed to input\")\n",
    "\n",
    "user_first_num = float(input(\"First Number: \"))\n",
    "user_second_num = float(input(\"Second Number: \"))\n",
    "user_third_num = float(input(\"Third Number: \"))\n",
    "\n",
    "if user_first_num < user_second_num and user_first_num < user_third_num:\n",
    "    lowest_number = user_first_num\n",
    "\n",
    "elif user_second_num < user_first_num and user_second_num < user_third_num:\n",
    "    lowest_number = user_second_num\n",
    "\n",
    "elif user_third_num < user_first_num and user_third_num < user_second_num:\n",
    "    lowest_number = user_third_num\n",
    "\n",
    "print(\"The lowest number is\", lowest_number)"
   ]
  },
  {
   "cell_type": "code",
   "execution_count": 3,
   "id": "08a15f32-9fc2-49e6-b6ef-89f7c92bc587",
   "metadata": {},
   "outputs": [
    {
     "name": "stdout",
     "output_type": "stream",
     "text": [
      "LIFE STAGES OF A PERSON ☻ \n"
     ]
    },
    {
     "name": "stdin",
     "output_type": "stream",
     "text": [
      "Enter age: 14\n"
     ]
    },
    {
     "name": "stdout",
     "output_type": "stream",
     "text": [
      "Welcome to Adult - hood!\n"
     ]
    }
   ],
   "source": [
    "# Program 3 : Life Stages\n",
    "# Conditional Statements\n",
    "# Create a program that will ask for an age of a person\n",
    "# Display the life stage of the person\n",
    "# Rules \n",
    "# 0 - 12 : KID\n",
    "# 13 - 17 : TEEN\n",
    "# 18 : YOUNG ADULT / DEBUT\n",
    "# 19 and above : ADULT\n",
    "\n",
    "print(\"LIFE STAGES OF A PERSON ☻ \")\n",
    "\n",
    "age= int(input(\"Enter age:\"))\n",
    "if -1 < age <= 12:\n",
    "    print('You are still a Kid ')\n",
    "elif 13 <= age <= 17:\n",
    "    print('Enjoy being a Teen ')\n",
    "elif age == 18:\n",
    "    print('You are a Debutant')\n",
    "else:\n",
    "    print('Welcome to Adult - hood!')"
   ]
  },
  {
   "cell_type": "code",
   "execution_count": 4,
   "id": "e14e0f87-ce4b-4dbd-87a3-5837450cb9e2",
   "metadata": {},
   "outputs": [
    {
     "name": "stdout",
     "output_type": "stream",
     "text": [
      "It's a  hot day\n",
      "Drink plenty of water\n",
      "---------------------------------------------------------\n",
      "It's a cold day\n",
      "Wear warm clothes\n",
      "Enjoy your Day\n",
      "---------------------------------------------------------\n",
      "It's a lovely day\n"
     ]
    }
   ],
   "source": [
    "# if it's hot\n",
    "   #  It's a  hot day\n",
    "   # Drink plenty of water\n",
    "# otherwise if it's cold\n",
    "    # It's a cold day\n",
    "    # Wear warm clothes\n",
    "# otherwise\n",
    "   # It's a lovely day\n",
    "\n",
    "weather = \"cold\"\n",
    "is_hot = True\n",
    "is_cold = False\n",
    "\n",
    "if is_hot:\n",
    "    print(\"It's a  hot day\")\n",
    "    print(\"Drink plenty of water\")\n",
    "elif is_cold:\n",
    "    print(\"It's a cold day\")\n",
    "    print(\"Wear warm clothes\")\n",
    "else:\n",
    "    print(\"It's a lovely day\")\n",
    "\n",
    "    # o/p will be following\n",
    "    # It's a hot day\n",
    "    # Drink plenty of water\n",
    "print(\"---------------------------------------------------------\")\n",
    "\n",
    "if weather == \"hot\":\n",
    "    print(\"It's a  hot day\")\n",
    "    print(\"Drink plenty of water\")\n",
    "elif weather == \"cold\":\n",
    "    print(\"It's a cold day\")\n",
    "    print(\"Wear warm clothes\")\n",
    "else:\n",
    "    print(\"It's a lovely day\")\n",
    "print(\"Enjoy your Day\")\n",
    "\n",
    "    # o/p will be following\n",
    "    # It's a cold day\n",
    "    # Wear warm clothes\n",
    "    # Enjoy your Day\n",
    "\n",
    "print(\"---------------------------------------------------------\")\n",
    "is_hot = False\n",
    "is_cold = False\n",
    "\n",
    "if is_hot:\n",
    "    print(\"It's a  hot day\")\n",
    "    print(\"Drink plenty of water\")\n",
    "elif is_cold:\n",
    "    print(\"It's a cold day\")\n",
    "    print(\"Wear warm clothes\")\n",
    "else:\n",
    "    print(\"It's a lovely day\")\n",
    "\n",
    "    # o/p will be following\n",
    "    # It's a lovely day"
   ]
  },
  {
   "cell_type": "code",
   "execution_count": 5,
   "id": "d0944531-239f-4c64-b895-cf9d1c81a1ca",
   "metadata": {},
   "outputs": [
    {
     "name": "stdout",
     "output_type": "stream",
     "text": [
      "Eligible for loan\n",
      "Eligible for loan\n"
     ]
    }
   ],
   "source": [
    "# Multiple Conditions\n",
    "#   AND,  OR, NOT\n",
    "# if applicant has high income AND good credit\n",
    "#   Eligible for loan\n",
    "\n",
    "has_high_income = True\n",
    "has_good_credit = True\n",
    "\n",
    "if has_high_income and has_good_credit:\n",
    "    print(\"Eligible for loan\")\n",
    "\n",
    "\n",
    "# if applicant has high income OR good credit\n",
    "#   Eligible for loan\n",
    "\n",
    "has_high_income = True\n",
    "has_good_credit = False\n",
    "\n",
    "if has_high_income or has_good_credit:\n",
    "    print(\"Eligible for loan\")\n",
    "\n",
    "# Not - example\n",
    "# if applicant has good credit AND doesn't have criminal record\n",
    "#   Eligible for loan\n",
    "\n",
    "has_good_credit = True\n",
    "has_criminal_record = True\n",
    "\n",
    "if has_good_credit and not has_criminal_record:\n",
    "    print (\"Eligible for loan\")"
   ]
  },
  {
   "cell_type": "code",
   "execution_count": 6,
   "id": "bc936346-b087-4c5f-89e7-08524c1e1321",
   "metadata": {},
   "outputs": [
    {
     "name": "stdout",
     "output_type": "stream",
     "text": [
      "it's neither hot nor cold\n"
     ]
    }
   ],
   "source": [
    "# Comparison Operator\n",
    "#   <,<=,>,>=,==,!=\n",
    "# if temperature is greater than 30\n",
    "#   it's a hot day\n",
    "# otherwise if it's less than 10\n",
    "#   it's a cold day\n",
    "# otherwise\n",
    "#   it's neither hot nor cold\n",
    "\n",
    "temperature = 10\n",
    "\n",
    "if temperature > 30:\n",
    "    print(\"it's a hot day\")\n",
    "elif temperature<10:\n",
    "    print(\"it's a cold day\")\n",
    "else:\n",
    "    print(\"it's neither hot nor cold\")"
   ]
  },
  {
   "cell_type": "code",
   "execution_count": 7,
   "id": "6cde867a-34a0-44de-b73f-5aa025616b32",
   "metadata": {},
   "outputs": [
    {
     "name": "stdout",
     "output_type": "stream",
     "text": [
      "name looks good!\n"
     ]
    }
   ],
   "source": [
    "# exercise\n",
    "\n",
    "name=\"Salman\"\n",
    "length = len(name)\n",
    "if length < 3:\n",
    "    print(\"name must be atleast 3 char long\")\n",
    "elif length > 50:\n",
    "    print(\"name can be a max of 50 characters\")\n",
    "else:\n",
    "    print(\"name looks good!\")"
   ]
  },
  {
   "cell_type": "code",
   "execution_count": 9,
   "id": "3e395880-13d8-48c9-808e-781ae167f3af",
   "metadata": {},
   "outputs": [
    {
     "name": "stdin",
     "output_type": "stream",
     "text": [
      "Weight:  60\n",
      "(L)bs or (K)g:  k\n"
     ]
    },
    {
     "name": "stdout",
     "output_type": "stream",
     "text": [
      "You are 133.33333333333334 pounds\n"
     ]
    }
   ],
   "source": [
    "# exercise\n",
    "\n",
    "#   Weight: 160  (input)\n",
    "#   (L)bs or (K)g: l  (input)\n",
    "#   You are 72.0 kilos\n",
    "\n",
    "weight = int(input(\"Weight: \"))\n",
    "measurement_unit = input(\"(L)bs or (K)g: \")\n",
    "if measurement_unit.lower() == 'l':\n",
    "    weight_in_kilos = (weight) * 0.45359237\n",
    "    print(f\"You are {weight_in_kilos} kilos\")\n",
    "else:\n",
    "    weight_in_pounds = (weight)/0.45\n",
    "    print(f\"You are {weight_in_pounds} pounds\")\n",
    "\n",
    "    "
   ]
  },
  {
   "cell_type": "code",
   "execution_count": 10,
   "id": "8b0d9c03-d25d-40d2-9c1d-61a282a7b940",
   "metadata": {},
   "outputs": [
    {
     "name": "stdout",
     "output_type": "stream",
     "text": [
      "True\n"
     ]
    }
   ],
   "source": [
    "# Make sure that the_flying_circus() returns True\n",
    "a = 5\n",
    "b = 6\n",
    "c = 7\n",
    "\n",
    "def the_flying_circus():\n",
    "    if (a+b >7 and a <7):    # Start coding here!\n",
    "        return True\n",
    "    elif (a+b < 7 and b < 7):\n",
    "        return False\n",
    "    else: \n",
    "    \t\treturn False\n",
    "flying_circus = the_flying_circus()\n",
    "print(flying_circus)"
   ]
  },
  {
   "cell_type": "code",
   "execution_count": 1,
   "id": "b6cdb048-b22f-4b31-a1b1-30bc55718aa8",
   "metadata": {},
   "outputs": [
    {
     "name": "stdout",
     "output_type": "stream",
     "text": [
      "student is passing\n",
      "student is passing\n",
      "not old enough\n"
     ]
    },
    {
     "name": "stdin",
     "output_type": "stream",
     "text": [
      "Weight:  60\n",
      "(K)g k\n"
     ]
    },
    {
     "name": "stdout",
     "output_type": "stream",
     "text": [
      " you are 133.33333333333334 pounds\n"
     ]
    },
    {
     "name": "stdin",
     "output_type": "stream",
     "text": [
      "Weight:  60\n",
      "(L)bs l\n"
     ]
    },
    {
     "name": "stdout",
     "output_type": "stream",
     "text": [
      " you are 27.2155422 kgs\n"
     ]
    },
    {
     "data": {
      "text/plain": [
       "'\\n#6)create a list (seat1 = 1, seat2 = 1, seat3 = 0, seat4 = 1), \\nNow make an if elseif, else statement that checks if a seat is open. if the seat = 1 its closed and print that it\\'s closed. \\nIf the seat = 0, it\\'s open and print that it\\'s open. If no seats are open print \"There are no available seats\"\\n'"
      ]
     },
     "execution_count": 1,
     "metadata": {},
     "output_type": "execute_result"
    }
   ],
   "source": [
    "'''\n",
    "#1) Create a Variable called grade and set it to an integer. Make an if statement that checks if the grade is a passing grade. grade must be above 65 to pass. print out \"student is passing\"\n",
    "'''\n",
    "grade = 79\n",
    "if grade > 65:\n",
    "    print(\"student is passing\")\n",
    "'''\n",
    "#2) Now make an if, else statement that checks if the student is passing but also print \"student is failing\", if the grade is less than 65\n",
    "'''\n",
    "if grade > 65:\n",
    "    print(\"student is passing\")\n",
    "else: \n",
    "    print(\"student is failing\")\n",
    "'''\n",
    "#3)Create a variable called age. Make and if, else statement that checks if the age entered is old enough to vote. Remember the voting age is 18\n",
    "'''\n",
    "age = 1\n",
    "if age >= 18:   \n",
    "    print(\"old enough\")\n",
    "else:\n",
    "    print(\"not old enough\")\n",
    "'''\n",
    "#4)Create a variable called weight. Make an if statement that checks the unit of the weight. If the weight is in kilograms, convert it to pounds \n",
    "'''\n",
    "weight = input(\"Weight: \")\n",
    "measuring_units = input(\"(K)g\")\n",
    "if measuring_units.lower() == 'k':\n",
    "    pounds = int(weight) / 0.45\n",
    "    print(f\" you are {pounds} pounds\")\n",
    "# else:\n",
    "#     print(\"Weight in kg\")\n",
    "\n",
    "'''\n",
    "#5)Now modify the previous program to also convert from pounds to kilograms\n",
    "'''\n",
    "weight = input(\"Weight: \")\n",
    "measuring_units = input(\"(L)bs\")\n",
    "if measuring_units.lower() == 'l':\n",
    "    kilograms = int(weight) * 0.45359237\n",
    "    print(f\" you are {kilograms} kgs\")\n",
    "'''\n",
    "#6)create a list (seat1 = 1, seat2 = 1, seat3 = 0, seat4 = 1), \n",
    "Now make an if elseif, else statement that checks if a seat is open. if the seat = 1 its closed and print that it's closed. \n",
    "If the seat = 0, it's open and print that it's open. If no seats are open print \"There are no available seats\"\n",
    "'''\n"
   ]
  },
  {
   "cell_type": "code",
   "execution_count": null,
   "id": "ba08bfcb-6366-4e25-b6e1-6e57277d102c",
   "metadata": {},
   "outputs": [],
   "source": [
    "list1 = [['seat1',1],['seat2',1], ['seat3',0], ['seat4', 1]]\n",
    "index_list = int(input())\n",
    "value = int(input())\n",
    "result = list1[index_list][value]\n",
    "if result == 0:\n",
    "    print(\"it's open\")\n",
    "elif result == 1:\n",
    "    print(\"it's closed\")\n",
    "else:\n",
    "    print(\"There are no available seats\")"
   ]
  },
  {
   "cell_type": "code",
   "execution_count": 1,
   "id": "7aefd743-c625-4ca5-8b69-1a5aeb5c967c",
   "metadata": {},
   "outputs": [
    {
     "name": "stdin",
     "output_type": "stream",
     "text": [
      " Sai\n",
      " -9\n",
      " male\n"
     ]
    },
    {
     "name": "stdout",
     "output_type": "stream",
     "text": [
      "write a valid age!\n"
     ]
    }
   ],
   "source": [
    "# Design a voter application \n",
    "# take 3 user inpiuts \n",
    "# Name, \n",
    "# Age,\n",
    "# Gender\n",
    "\n",
    "\n",
    "# male and age is grater 18, print nae,  age  is eligible for voting\n",
    "# female and age is grater 21, print nae,  age   is eligible for voting\n",
    "# write validation on age print if age is not in negitive avales more 100 value\n",
    "\n",
    "Name = input()\n",
    "Age = int(input())\n",
    "Gender = input()\n",
    "if (Gender == \"male\") and (100 >= Age > 18):\n",
    "    print(\"Eligible for vote: \", Name, Age)\n",
    " #   print(Name, Age)\n",
    "elif (Gender == \"female\") and (100 >= Age > 21):\n",
    "    print(\"Eligible for vote: \", Name, Age)\n",
    "else:\n",
    "    print(\"write a valid age!\")"
   ]
  },
  {
   "cell_type": "code",
   "execution_count": null,
   "id": "91103480-9b1f-44df-aba5-c6ba612ab44a",
   "metadata": {},
   "outputs": [],
   "source": []
  },
  {
   "cell_type": "markdown",
   "id": "a252225e-eb30-4395-a410-8e5392285d85",
   "metadata": {},
   "source": [
    "Take a list, say for example this one:\n",
    "\n",
    "\ta = [1, 1, 2, 3, 5, 8, 13, 21, 34, 55, 89]\n",
    "and write a program that prints out all the elements of the list that are less than 5.\n",
    "\n",
    "Extras:\n",
    "\n",
    " - Instead of printing the elements one by one, make a new list that has all the elements less than 5 from this list in it and print out this new list.\n",
    " - Write this in one line of Python.\n",
    " - Ask the user for a number and return a list that contains only elements from the original list a that are smaller than that number given by the user."
   ]
  },
  {
   "cell_type": "code",
   "execution_count": 13,
   "id": "6f66659d-6212-44a3-a629-bca4ef9b70c4",
   "metadata": {},
   "outputs": [
    {
     "name": "stdout",
     "output_type": "stream",
     "text": [
      "[1, 1, 2, 3]\n",
      "[1, 1, 2, 3]\n"
     ]
    }
   ],
   "source": [
    "a = [1, 1, 2, 3, 5, 8, 13, 21, 34, 55, 89]\n",
    "new_list = []\n",
    "for items in a:\n",
    "    if items < 5:\n",
    "        new_list.append(items)\n",
    "print(new_list)\n",
    "\n",
    "# Write this in one line of Python.\n",
    "a = [1, 1, 2, 3, 5, 8, 13, 21, 34, 55, 89]\n",
    "b = []\n",
    "[b.append(items) for items in a if items < 5]\n",
    "print(b)"
   ]
  },
  {
   "cell_type": "code",
   "execution_count": 14,
   "id": "5bdda2d5-b255-4b6c-9623-926a8ddecb73",
   "metadata": {},
   "outputs": [
    {
     "name": "stdin",
     "output_type": "stream",
     "text": [
      "Select a number: \n",
      " 8\n"
     ]
    },
    {
     "name": "stdout",
     "output_type": "stream",
     "text": [
      "[1, 1, 2, 3, 5]\n"
     ]
    }
   ],
   "source": [
    "a = [1, 1, 2, 3, 5, 8, 13, 21, 34, 55, 89]\n",
    "b = []\n",
    "user_input = int(input('Select a number: \\n'))\n",
    "[b.append(items) for items in a if items < user_input]\n",
    "print(b)"
   ]
  },
  {
   "cell_type": "markdown",
   "id": "05e20e80-21de-49a0-9983-e11e6c0abd20",
   "metadata": {},
   "source": [
    "Create a program that asks the user for a number and then prints out a list of all the divisors of that number. (If you don’t know what a divisor is, it is a number that divides evenly into another number. For example, 13 is a divisor of 26 because 26 / 13 has no remainder.)"
   ]
  },
  {
   "cell_type": "code",
   "execution_count": 15,
   "id": "a4e688e2-3187-4b9a-9ce6-d8faefcf76f4",
   "metadata": {},
   "outputs": [
    {
     "name": "stdin",
     "output_type": "stream",
     "text": [
      "Enter the input number:  26\n"
     ]
    },
    {
     "name": "stdout",
     "output_type": "stream",
     "text": [
      "[1, 2, 13, 26]\n"
     ]
    }
   ],
   "source": [
    "number = int(input('Enter the input number: '))\n",
    "divisors = []\n",
    "for i in range(1, number+1):\n",
    "    if number%i == 0:\n",
    "        divisors.append(i)\n",
    "print(divisors)\n"
   ]
  },
  {
   "cell_type": "code",
   "execution_count": 17,
   "id": "d9d405ed-2328-4a46-a568-124fb17bb070",
   "metadata": {},
   "outputs": [
    {
     "name": "stdin",
     "output_type": "stream",
     "text": [
      "Please input a number: 12\n"
     ]
    },
    {
     "name": "stdout",
     "output_type": "stream",
     "text": [
      "[1, 2, 3, 4, 6, 12]\n"
     ]
    }
   ],
   "source": [
    "# one line code of python\n",
    "number = int(input(\"Please input a number:\"))\n",
    "devisers = []\n",
    "[devisers.append(i) for i in range(1, number+1) if number % i == 0]\n",
    "print(devisers)\n"
   ]
  },
  {
   "cell_type": "markdown",
   "id": "d658c09c-6802-4bb8-a20e-c86a4c371d0f",
   "metadata": {
    "tags": []
   },
   "source": [
    "### Rock Paper Scissors\n",
    "\n",
    "Make a two-player Rock-Paper-Scissors game. (Hint: Ask for player plays (using input), compare them, print out a message of congratulations to the winner, and ask if the players want to start a new game)\n",
    "\n",
    "Remember the rules:\n",
    "\n",
    " - Rock beats scissors\n",
    " - Scissors beats paper\n",
    " - Paper beats rock"
   ]
  },
  {
   "cell_type": "code",
   "execution_count": 11,
   "id": "88fec871-8fd7-40e3-a3df-48ba976ad45d",
   "metadata": {},
   "outputs": [
    {
     "name": "stdin",
     "output_type": "stream",
     "text": [
      " Rock\n",
      " Paper\n"
     ]
    },
    {
     "name": "stdout",
     "output_type": "stream",
     "text": [
      "Player 2 wins\n"
     ]
    }
   ],
   "source": [
    "player_1 = input()\n",
    "player_2 = input()\n",
    "\n",
    "if player_1 == player_2:\n",
    "    print (\"Start a New Game\")\n",
    "    \n",
    "elif player_1 == \"Rock\":\n",
    "    if player_2 == \"Scissors\":\n",
    "         print (\"Player 1 wins\")\n",
    "    else:\n",
    "         print (\"Player 2 wins\")\n",
    "         \n",
    "elif player_1 == \"Scissors\":\n",
    "    if player_2 == \"Rock\":\n",
    "         print (\"Player 2 wins\")\n",
    "    else:\n",
    "         print (\"Player 1 wins\")\n",
    "         \n",
    "elif player_1 == \"Scissors\":\n",
    "    if player_2 == \"Paper\":\n",
    "         print (\"Player 1 wins\")\n",
    "    else:\n",
    "         print (\"Player 2 wins\")\n",
    "         \n",
    "elif player_1 == \"Paper\":\n",
    "    if player_2 == \"Scissors\":\n",
    "         print (\"Player 2 wins\")\n",
    "    else:\n",
    "         print (\"Player 1 wins\")\n",
    "\n",
    "\n",
    "elif player_1 == \"Rock\":\n",
    "    if player_2 == \"Paper\":\n",
    "        print (\"Player 2 wins\")\n",
    "    else:\n",
    "         print (\"Player 1 wins\")\n",
    "elif player_1 == \"Paper\":\n",
    "    if player_2 == \"Rock\":\n",
    "         print (\"Player 1 wins\")\n",
    "    else:\n",
    "         print (\"Player 2 wins\")\n",
    "         \n",
    "\n",
    "else:\n",
    "     print (\"Input Out of Range : \")\n"
   ]
  },
  {
   "cell_type": "code",
   "execution_count": null,
   "id": "c4e051e6-4c53-48f7-bc7a-2fac835548a9",
   "metadata": {},
   "outputs": [],
   "source": [
    " # - Rock beats scissors\n",
    " # - Scissors beats paper\n",
    " # - Paper beats rock\n",
    "player1 = input()\n",
    "player2 = input()\n",
    "\n",
    "if (player1 == player2):\n",
    "    print(\"Game Draw\")\n",
    "# scissors > paper\n",
    "# paper > rock\n",
    "# rock > scissors\n",
    "elif player1 == 'scissors' and player2 == 'paper':\n",
    "    print(\"player1 win!\")\n",
    "\n",
    "elif player1 == 'paper' and player2 == 'rock':\n",
    "    print(\"player1 win!\") \n",
    "\n",
    "elif player1 == 'rock' and player2 == 'scissors':\n",
    "    print(\"player1 win!\")\n",
    "\n",
    "else:\n",
    "    (\"player2 win!\")\n",
    "    "
   ]
  },
  {
   "cell_type": "markdown",
   "id": "9ce94a55-064b-47b5-bb78-4a98d4b633c6",
   "metadata": {
    "tags": []
   },
   "source": [
    "#### Element Search Solutions\n",
    "\n",
    "Write a function that takes an ordered list of numbers (a list where the elements are in order from smallest to largest) and another number. The function decides whether or not the given number is inside the list and returns (then prints) an appropriate boolean.\n",
    "\n",
    "Extras:\n",
    "\n",
    "Use binary search."
   ]
  },
  {
   "cell_type": "code",
   "execution_count": 12,
   "id": "375e63f6-66ce-4995-8037-ff0047f4db9c",
   "metadata": {},
   "outputs": [
    {
     "name": "stdin",
     "output_type": "stream",
     "text": [
      "Pick a number:  5\n"
     ]
    },
    {
     "name": "stdout",
     "output_type": "stream",
     "text": [
      "True\n"
     ]
    }
   ],
   "source": [
    "def in_out ():\n",
    "    if x in mylist:\n",
    "        return True\n",
    "    else:\n",
    "        return False\n",
    "\n",
    "mylist = [1,3,5,20,45,68]\n",
    "x = int(input(\"Pick a number: \"))\n",
    "\n",
    "result = in_out()\n",
    "print(result)"
   ]
  },
  {
   "cell_type": "code",
   "execution_count": null,
   "id": "bb5509b4-8085-4923-82c5-b1930710e436",
   "metadata": {},
   "outputs": [],
   "source": []
  },
  {
   "cell_type": "markdown",
   "id": "1db8e9cc-9ecf-4827-8fc6-b191c01af8f5",
   "metadata": {},
   "source": [
    "#### Cows And Bulls Solutions\n",
    "\n",
    "Create a program that will play the “cows and bulls” game with the user. The game works like this:\n",
    "\n",
    "Randomly generate a 4-digit number. Ask the user to guess a 4-digit number. For every digit that the user guessed correctly in the correct place, they have a “cow”. For every digit the user guessed correctly in the wrong place is a “bull.” Every time the user makes a guess, tell them how many “cows” and “bulls” they have. Once the user guesses the correct number, the game is over. Keep track of the number of guesses the user makes throughout teh game and tell the user at the end.\n",
    "\n",
    "Say the number generated by the computer is 1038. An example interaction could look like this:\n",
    "\n",
    "  Welcome to the Cows and Bulls Game! \n",
    "  \n",
    "  Enter a number: \n",
    "  \n",
    "  '>>>' 1234\n",
    "  \n",
    "  2 cows, 0 bulls\n",
    "  \n",
    "  '>>>' 1256\n",
    "  \n",
    "  1 cow, 1 bull\n",
    "  ...`\n",
    "  \n",
    "Until the user guesses the number."
   ]
  },
  {
   "cell_type": "code",
   "execution_count": null,
   "id": "b4e4b22b-a26d-4b70-9f30-42303f6dee8a",
   "metadata": {},
   "outputs": [
    {
     "name": "stdin",
     "output_type": "stream",
     "text": [
      "Enter the a 4 digit number:  1234\n"
     ]
    },
    {
     "name": "stdout",
     "output_type": "stream",
     "text": [
      "Bulls:  1 Cows:  1\n"
     ]
    },
    {
     "name": "stdin",
     "output_type": "stream",
     "text": [
      "Enter the a 4 digit number:  1234\n"
     ]
    },
    {
     "name": "stdout",
     "output_type": "stream",
     "text": [
      "Bulls:  1 Cows:  1\n"
     ]
    },
    {
     "name": "stdin",
     "output_type": "stream",
     "text": [
      "Enter the a 4 digit number:  3256\n"
     ]
    },
    {
     "name": "stdout",
     "output_type": "stream",
     "text": [
      "Bulls:  1 Cows:  2\n"
     ]
    },
    {
     "name": "stdin",
     "output_type": "stream",
     "text": [
      "Enter the a 4 digit number:  6532\n"
     ]
    },
    {
     "name": "stdout",
     "output_type": "stream",
     "text": [
      "Bulls:  0 Cows:  2\n"
     ]
    },
    {
     "name": "stdin",
     "output_type": "stream",
     "text": [
      "Enter the a 4 digit number:  1234\n"
     ]
    },
    {
     "name": "stdout",
     "output_type": "stream",
     "text": [
      "Bulls:  1 Cows:  1\n"
     ]
    },
    {
     "name": "stdin",
     "output_type": "stream",
     "text": [
      "Enter the a 4 digit number:  1586\n"
     ]
    },
    {
     "name": "stdout",
     "output_type": "stream",
     "text": [
      "Bulls:  1 Cows:  4\n"
     ]
    },
    {
     "name": "stdin",
     "output_type": "stream",
     "text": [
      "Enter the a 4 digit number:  1254\n"
     ]
    },
    {
     "name": "stdout",
     "output_type": "stream",
     "text": [
      "Bulls:  2 Cows:  2\n"
     ]
    },
    {
     "name": "stdin",
     "output_type": "stream",
     "text": [
      "Enter the a 4 digit number:  4563\n"
     ]
    },
    {
     "name": "stdout",
     "output_type": "stream",
     "text": [
      "Bulls:  0 Cows:  2\n"
     ]
    },
    {
     "name": "stdin",
     "output_type": "stream",
     "text": [
      "Enter the a 4 digit number:  5542\n"
     ]
    },
    {
     "name": "stdout",
     "output_type": "stream",
     "text": [
      "Bulls:  0 Cows:  2\n"
     ]
    },
    {
     "name": "stdin",
     "output_type": "stream",
     "text": [
      "Enter the a 4 digit number:  4586\n"
     ]
    },
    {
     "name": "stdout",
     "output_type": "stream",
     "text": [
      "Bulls:  0 Cows:  3\n"
     ]
    },
    {
     "name": "stdin",
     "output_type": "stream",
     "text": [
      "Enter the a 4 digit number:  1254\n"
     ]
    },
    {
     "name": "stdout",
     "output_type": "stream",
     "text": [
      "Bulls:  2 Cows:  2\n"
     ]
    }
   ],
   "source": [
    "import random\n",
    "number = []\n",
    "attempts = 0\n",
    "\n",
    "def makenumber():\n",
    "    for i in range(4):\n",
    "        x = random.randrange(0, 9)\n",
    "        number.append(x)\n",
    "#    print(number)\n",
    "    if len(number) > len(set(number)):\n",
    "        number.clear()\n",
    "        makenumber()\n",
    "\n",
    "#makenumber()\n",
    "#print(number)\n",
    "def playgame():\n",
    "    global attempts\n",
    "    attempts += 1\n",
    "    cows = 0 \n",
    "    bulls = 0\n",
    "#    print(number)\n",
    "    choice = input(\"Enter the a 4 digit number: \")\n",
    "    \n",
    "    guess = []\n",
    "    for i in range(4):\n",
    "        guess.append(int(choice[i]))\n",
    "    for i in range(4):\n",
    "        for j in range(4):\n",
    "            if (guess[i] == number[j]):\n",
    "                cows += 1\n",
    "    for x in range(4):\n",
    "        if guess[x] == number[x]:\n",
    "            bulls += 1\n",
    "    print(\"Bulls: \", bulls, \"Cows: \", cows)\n",
    "#    print()\n",
    "    if (bulls == 4):\n",
    "        print(\"You won after \", attempts, \"attempts!\")\n",
    "    if (bulls != 4):\n",
    "        playgame()\n",
    "        \n",
    "makenumber()\n",
    "playgame()\n"
   ]
  },
  {
   "cell_type": "code",
   "execution_count": 2,
   "id": "a4aa8b19-8895-4f59-bca8-28b2ceea45c3",
   "metadata": {},
   "outputs": [
    {
     "name": "stdout",
     "output_type": "stream",
     "text": [
      "2227\n"
     ]
    }
   ],
   "source": [
    "import random\n",
    "number = str(random.randint(1000, 9999))\n",
    "print(number) \n",
    "\n",
    "# while loop\n"
   ]
  },
  {
   "cell_type": "code",
   "execution_count": 3,
   "id": "8b121c02-465b-4b15-8fd0-b50b1a6b90c5",
   "metadata": {},
   "outputs": [
    {
     "name": "stdin",
     "output_type": "stream",
     "text": [
      "Enter the guessing number:  1253\n"
     ]
    }
   ],
   "source": [
    "user_guess = input(\"Enter the guessing number: \")\n"
   ]
  },
  {
   "cell_type": "code",
   "execution_count": 4,
   "id": "126a057a-7522-4861-809a-2b3f3bd28120",
   "metadata": {},
   "outputs": [
    {
     "name": "stdout",
     "output_type": "stream",
     "text": [
      "2 1 False\n",
      "False\n",
      "2 2 True\n",
      "True\n",
      "2 5 False\n",
      "False\n",
      "7 3 False\n",
      "False\n"
     ]
    }
   ],
   "source": [
    "for i in range(len(user_guess)):\n",
    "    print(number[i], user_guess[i], number[i] == user_guess[i])\n",
    "    print(user_guess[i] in number)"
   ]
  },
  {
   "cell_type": "code",
   "execution_count": null,
   "id": "002291d7-c2e2-4f7a-822c-1f6484d89913",
   "metadata": {},
   "outputs": [],
   "source": []
  }
 ],
 "metadata": {
  "kernelspec": {
   "display_name": "Python 3 (ipykernel)",
   "language": "python",
   "name": "python3"
  },
  "language_info": {
   "codemirror_mode": {
    "name": "ipython",
    "version": 3
   },
   "file_extension": ".py",
   "mimetype": "text/x-python",
   "name": "python",
   "nbconvert_exporter": "python",
   "pygments_lexer": "ipython3",
   "version": "3.9.7"
  }
 },
 "nbformat": 4,
 "nbformat_minor": 5
}
