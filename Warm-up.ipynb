{
 "cells": [
  {
   "cell_type": "markdown",
   "id": "007c8c05-dabd-4645-999f-32596208b4c9",
   "metadata": {},
   "source": [
    "### Write 4 logic for each problem statement\n",
    " - predifened\n",
    " - custom logic\n",
    " - google 1\n",
    " - google 2\n",
    " - mix all above logic create 1 (optional)"
   ]
  },
  {
   "cell_type": "markdown",
   "id": "074a014c",
   "metadata": {},
   "source": [
    "###  WAF to decode the encoded string: RaJu0000KaLyAn000263828000MalE00727 to the following structure:\n",
    "{\"Firstname\":\"Raju\", \"Lastname\":\"Kalyan\", \"id\": 263828, \"Gender\":\"Male\"}"
   ]
  },
  {
   "cell_type": "code",
   "execution_count": 5,
   "id": "d93919d6",
   "metadata": {},
   "outputs": [
    {
     "name": "stdout",
     "output_type": "stream",
     "text": [
      "RajuKalyan263828Male00727\n"
     ]
    }
   ],
   "source": [
    "dict_1 = {\"Firstname\":\"Raju\", \"Lastname\":\"Kalyan\", \"id\": 263828, \"Gender\":\"Male\"}\n",
    "#dict_2 = [['Firstname', 'Raju'], ['Lastname',' Kalyan'], ['id', 263828], ['Gender',' Male']]\n",
    "for char in dict_1.values():\n",
    "        print(char, end=\"\")\n",
    "\n",
    "print(\"00727\")"
   ]
  },
  {
   "cell_type": "code",
   "execution_count": 1,
   "id": "752e2655",
   "metadata": {},
   "outputs": [
    {
     "name": "stdout",
     "output_type": "stream",
     "text": [
      "Raju0000Kalyan000263828000Male00727\n"
     ]
    }
   ],
   "source": [
    "def encoded(Firstname, Lastname, id, Gender):\n",
    "    \n",
    "    return(Firstname +\"0000\"+Lastname+\"000\"+str(id)+\"000\"+Gender+\"00727\")\n",
    "\n",
    "dict_1 = {\"Firstname\":\"Raju\", \"Lastname\":\"Kalyan\", \"id\": 263828, \"Gender\":\"Male\"}\n",
    "enc = encoded(**dict_1)\n",
    "print(enc)\n",
    "dict_1 = {\"Firstname\":\"Raju\", \"Lastname\":\"Kalyan\", \"id\": 263828, \"Gender\":\"Male\"}"
   ]
  },
  {
   "cell_type": "markdown",
   "id": "354583d7",
   "metadata": {},
   "source": [
    "### WAF to find if two strings are Anagrams or Anadromes or None:\n",
    "eg: \"silence\" and \"license\", \"silent\" and \"listen\", \"fired\" and \"fried\"are anagrams (same letters) \"top\" and \"pot\", \"evil\" and \"live\", \"parts\" and \"strap\" are anadromes (one is reverse of other)"
   ]
  },
  {
   "cell_type": "code",
   "execution_count": 82,
   "id": "0073c930",
   "metadata": {},
   "outputs": [
    {
     "name": "stdout",
     "output_type": "stream",
     "text": [
      "Enter angram_1: top\n",
      "Enter angram_2: foot\n",
      "none\n"
     ]
    }
   ],
   "source": [
    "def my_anagram(anagram_1, anagram_2):\n",
    "    # Anadromes\n",
    "    if anagram_1 == anagram_2[::-1]:\n",
    "        print(\"Anadromes: \")\n",
    "    # Anagrams\n",
    "    elif sorted(anagram_1) == sorted(anagram_2):\n",
    "        print(\"Anagrams:\")\n",
    "    else:\n",
    "        print(\"none\")\n",
    "    \n",
    "\n",
    "anagram_1 = input(\"Enter angram_1: \")\n",
    "anagram_2 = input(\"Enter angram_2: \")\n",
    "\n",
    "my_anagram(anagram_1, anagram_2)"
   ]
  },
  {
   "cell_type": "markdown",
   "id": "ef2123b2",
   "metadata": {},
   "source": [
    "### WAF that takes 2 digits, X,Y as input and generates a 2-dimensional array of shape X*Y. The element value in the i-th row and j-th column of the array should be i * j."
   ]
  },
  {
   "cell_type": "code",
   "execution_count": 12,
   "id": "fe424f83",
   "metadata": {},
   "outputs": [
    {
     "name": "stdout",
     "output_type": "stream",
     "text": [
      "Enter row: 2\n",
      "Enter column: 2\n"
     ]
    },
    {
     "data": {
      "text/plain": [
       "[[0, 0], [0, 0]]"
      ]
     },
     "execution_count": 12,
     "metadata": {},
     "output_type": "execute_result"
    }
   ],
   "source": [
    "def my_arr(X, Y):\n",
    "    arr = [[i*(j*(0)) for j in range(Y)] for i in range(X)] # if Arr null col must be (col*zero)\n",
    "    return arr\n",
    "    \n",
    "X = int(input(\"Enter row: \"))\n",
    "Y = int(input(\"Enter column: \"))\n",
    "my_arr(X, Y)"
   ]
  },
  {
   "cell_type": "markdown",
   "id": "b346331c",
   "metadata": {},
   "source": [
    "### WAF to take a file as input and return another file with text that contains unique words from the input file in alphabetical order and all the words starting with uppercase letters. Also return the difference of counts of words in the first file and second file."
   ]
  },
  {
   "cell_type": "code",
   "execution_count": null,
   "id": "cbbb9638",
   "metadata": {},
   "outputs": [],
   "source": []
  },
  {
   "cell_type": "markdown",
   "id": "bcfff124",
   "metadata": {},
   "source": [
    "### WAF to take a single digit number(num) and another number of any digit (count) as input and return the output with the following calculation: num + numnum + numnumnum .. upto count times\n",
    "eg: if num = 5, count = 6:\n",
    "return 617280 (5 + 55 + 555 + 5555 + 55555 + 555555)"
   ]
  },
  {
   "cell_type": "code",
   "execution_count": null,
   "id": "a09b51be",
   "metadata": {},
   "outputs": [],
   "source": [
    "## Define function\n",
    "def my_function(num, count):\n",
    "\n",
    "    ## initializing change variable to n\n",
    "    change = num\n",
    "    ## initializing sum to 0\n",
    "    s = 0\n",
    "    ## loop\n",
    "    for i in range(count):\n",
    "       ## adding change to s\n",
    "       s += change\n",
    "       ## updating the value of change\n",
    "       change = change * 10 + num\n",
    "    return s\n",
    "   \n",
    " ## intializing num and count\n",
    "num, count = 5, 6\n",
    "result = my_function(num, count)  ## Call my_function()\n",
    "print(result) ## printing the result"
   ]
  },
  {
   "cell_type": "markdown",
   "id": "c825e905",
   "metadata": {},
   "source": [
    "### WAF to take dynamic parameters of strings(any length) as input and return passwords that match following criteria:\n",
    "At least 1 letter between [a-z]\n",
    "At least 1 number between [0-9]\n",
    "At least 1 letter between [A-Z]\n",
    "At least 1 character from [$%#&@!]\n",
    "Minimum length of transaction password: 8\n",
    "Maximum length of transaction password: 16\n",
    "You can use inbuilt string functions but no packages like regex"
   ]
  },
  {
   "cell_type": "code",
   "execution_count": 12,
   "id": "eede674b",
   "metadata": {},
   "outputs": [
    {
     "name": "stdout",
     "output_type": "stream",
     "text": [
      "Enter Password: Sjdsjjs!vd\n",
      "[]\n"
     ]
    }
   ],
   "source": [
    "def My_password():\n",
    "    \n",
    "    passwords = input(\"Enter Password: \").split(\",\")\n",
    "    special_chars = [\"$\",\"#\",\"@\",\"%\",\"&\",\"!\"]\n",
    "    valid = []\n",
    "\n",
    "    for x in passwords:\n",
    "        #check length\n",
    "        if(len(x) > 16 or len(x) < 8):\n",
    "            continue\n",
    "\n",
    "        #check if has both uppercase and lower\n",
    "        if (x.isupper() or x.islower()): \n",
    "            continue\n",
    "\n",
    "        #check numbers\n",
    "        has_number = any(char.isdigit() for char in x)\n",
    "        if(not has_number):\n",
    "            continue\n",
    "\n",
    "        #check if has special character\n",
    "        has_char = any(char in special_chars for char in x)\n",
    "        if(not has_char):\n",
    "            continue\n",
    "\n",
    "        #only reached if all checks are passed\n",
    "        valid.append(x)\n",
    "    return valid\n",
    "\n",
    "result = My_password()\n",
    "print(result)\n"
   ]
  },
  {
   "cell_type": "code",
   "execution_count": 1,
   "id": "3c0717be-39e7-44c2-a76c-a7c5d460cec2",
   "metadata": {},
   "outputs": [
    {
     "ename": "SyntaxError",
     "evalue": "invalid syntax (<ipython-input-1-d09b8a9a2b1f>, line 2)",
     "output_type": "error",
     "traceback": [
      "\u001b[1;36m  File \u001b[1;32m\"<ipython-input-1-d09b8a9a2b1f>\"\u001b[1;36m, line \u001b[1;32m2\u001b[0m\n\u001b[1;33m    \"\"return\u001b[0m\n\u001b[1;37m      ^\u001b[0m\n\u001b[1;31mSyntaxError\u001b[0m\u001b[1;31m:\u001b[0m invalid syntax\n"
     ]
    }
   ],
   "source": [
    "def a():\n",
    "    \"\"return"
   ]
  },
  {
   "cell_type": "code",
   "execution_count": 2,
   "id": "a21bcba0-cd74-4555-8cd8-1eb4ab038800",
   "metadata": {},
   "outputs": [
    {
     "data": {
      "text/plain": [
       "dict"
      ]
     },
     "execution_count": 2,
     "metadata": {},
     "output_type": "execute_result"
    }
   ],
   "source": [
    "type({})"
   ]
  },
  {
   "cell_type": "code",
   "execution_count": 3,
   "id": "d5de0037-e43d-4a11-95aa-493878538156",
   "metadata": {},
   "outputs": [
    {
     "data": {
      "text/plain": [
       "[1, 2]"
      ]
     },
     "execution_count": 3,
     "metadata": {},
     "output_type": "execute_result"
    }
   ],
   "source": [
    "list([1,2])"
   ]
  },
  {
   "cell_type": "code",
   "execution_count": 4,
   "id": "56e09b44-0edf-4659-a6e9-3e7670357a9f",
   "metadata": {},
   "outputs": [],
   "source": [
    "z =set('abc')"
   ]
  },
  {
   "cell_type": "code",
   "execution_count": 5,
   "id": "2a2a364f-a720-468c-a7c2-cfab2b61fbf0",
   "metadata": {},
   "outputs": [
    {
     "data": {
      "text/plain": [
       "{'a', 'b', 'c'}"
      ]
     },
     "execution_count": 5,
     "metadata": {},
     "output_type": "execute_result"
    }
   ],
   "source": [
    "z"
   ]
  },
  {
   "cell_type": "code",
   "execution_count": 6,
   "id": "23b8da0b-ab21-4e23-b187-d8026fa5d1a7",
   "metadata": {},
   "outputs": [
    {
     "ename": "AttributeError",
     "evalue": "'set' object has no attribute 'updatete'",
     "output_type": "error",
     "traceback": [
      "\u001b[1;31m---------------------------------------------------------------------------\u001b[0m",
      "\u001b[1;31mAttributeError\u001b[0m                            Traceback (most recent call last)",
      "\u001b[1;32m<ipython-input-6-dc03bb1b0332>\u001b[0m in \u001b[0;36m<module>\u001b[1;34m\u001b[0m\n\u001b[1;32m----> 1\u001b[1;33m \u001b[0mz\u001b[0m\u001b[1;33m.\u001b[0m\u001b[0mupdatete\u001b[0m\u001b[1;33m(\u001b[0m\u001b[0mset\u001b[0m\u001b[1;33m(\u001b[0m\u001b[1;33m[\u001b[0m\u001b[1;34m'p'\u001b[0m\u001b[1;33m,\u001b[0m \u001b[1;34m'q'\u001b[0m\u001b[1;33m]\u001b[0m\u001b[1;33m)\u001b[0m\u001b[1;33m)\u001b[0m\u001b[1;33m\u001b[0m\u001b[1;33m\u001b[0m\u001b[0m\n\u001b[0m",
      "\u001b[1;31mAttributeError\u001b[0m: 'set' object has no attribute 'updatete'"
     ]
    }
   ],
   "source": [
    "z.updatete(set(['p', 'q']))"
   ]
  },
  {
   "cell_type": "code",
   "execution_count": 7,
   "id": "289b5bb8-700c-4546-acbd-ac0d0915ccef",
   "metadata": {},
   "outputs": [],
   "source": [
    "z.add('san')"
   ]
  },
  {
   "cell_type": "code",
   "execution_count": 8,
   "id": "aab5a389-77bf-4439-8abf-1a27815152ba",
   "metadata": {},
   "outputs": [
    {
     "data": {
      "text/plain": [
       "{'a', 'b', 'c', 'san'}"
      ]
     },
     "execution_count": 8,
     "metadata": {},
     "output_type": "execute_result"
    }
   ],
   "source": [
    "z"
   ]
  },
  {
   "cell_type": "code",
   "execution_count": 9,
   "id": "913e2fa6-79d3-455a-a693-2d17ccc3ae52",
   "metadata": {},
   "outputs": [],
   "source": [
    "z.update(set(['p', 'q']))"
   ]
  },
  {
   "cell_type": "code",
   "execution_count": 10,
   "id": "d6f28a14-042d-4576-af26-9b999bc9b49e",
   "metadata": {},
   "outputs": [
    {
     "data": {
      "text/plain": [
       "{'a', 'b', 'c', 'p', 'q', 'san'}"
      ]
     },
     "execution_count": 10,
     "metadata": {},
     "output_type": "execute_result"
    }
   ],
   "source": [
    "z"
   ]
  },
  {
   "cell_type": "code",
   "execution_count": 11,
   "id": "f95bb038-06cf-49a2-b0ef-79f88ccadf43",
   "metadata": {},
   "outputs": [
    {
     "data": {
      "text/plain": [
       "(512, 64)"
      ]
     },
     "execution_count": 11,
     "metadata": {},
     "output_type": "execute_result"
    }
   ],
   "source": [
    "2**(3**2), (2**3)**2"
   ]
  },
  {
   "cell_type": "code",
   "execution_count": 12,
   "id": "ac5349fb-e201-446c-80d1-4bdc55d731fd",
   "metadata": {},
   "outputs": [
    {
     "data": {
      "text/plain": [
       "'Aaa'"
      ]
     },
     "execution_count": 12,
     "metadata": {},
     "output_type": "execute_result"
    }
   ],
   "source": [
    "\"AAA\".capitalize()"
   ]
  },
  {
   "cell_type": "code",
   "execution_count": 14,
   "id": "c1f99454-a19c-41da-977f-13f05d51a319",
   "metadata": {},
   "outputs": [
    {
     "ename": "TypeError",
     "evalue": "'<' not supported between instances of 'complex' and 'int'",
     "output_type": "error",
     "traceback": [
      "\u001b[1;31m---------------------------------------------------------------------------\u001b[0m",
      "\u001b[1;31mTypeError\u001b[0m                                 Traceback (most recent call last)",
      "\u001b[1;32m<ipython-input-14-44425f321a08>\u001b[0m in \u001b[0;36m<module>\u001b[1;34m\u001b[0m\n\u001b[1;32m----> 1\u001b[1;33m \u001b[1;33m[\u001b[0m\u001b[1;36m2\u001b[0m\u001b[1;33m,\u001b[0m \u001b[1;36m5j\u001b[0m\u001b[1;33m,\u001b[0m \u001b[1;36m6\u001b[0m\u001b[1;33m]\u001b[0m\u001b[1;33m.\u001b[0m\u001b[0msort\u001b[0m\u001b[1;33m(\u001b[0m\u001b[1;33m)\u001b[0m\u001b[1;33m\u001b[0m\u001b[1;33m\u001b[0m\u001b[0m\n\u001b[0m",
      "\u001b[1;31mTypeError\u001b[0m: '<' not supported between instances of 'complex' and 'int'"
     ]
    }
   ],
   "source": [
    "[2, 5j, 6].sort()"
   ]
  },
  {
   "cell_type": "code",
   "execution_count": 16,
   "id": "1af6ab5c-9b28-4863-83e5-b22ad2694f78",
   "metadata": {},
   "outputs": [
    {
     "ename": "ValueError",
     "evalue": "cannot switch from automatic field numbering to manual field specification",
     "output_type": "error",
     "traceback": [
      "\u001b[1;31m---------------------------------------------------------------------------\u001b[0m",
      "\u001b[1;31mValueError\u001b[0m                                Traceback (most recent call last)",
      "\u001b[1;32m<ipython-input-16-d22f72a130bc>\u001b[0m in \u001b[0;36m<module>\u001b[1;34m\u001b[0m\n\u001b[1;32m----> 1\u001b[1;33m \u001b[1;34m\"{} {1} {2}\"\u001b[0m\u001b[1;33m.\u001b[0m\u001b[0mformat\u001b[0m\u001b[1;33m(\u001b[0m\u001b[1;34m'1'\u001b[0m\u001b[1;33m,\u001b[0m\u001b[1;34m'2'\u001b[0m\u001b[1;33m,\u001b[0m\u001b[1;34m'3'\u001b[0m\u001b[1;33m)\u001b[0m\u001b[1;33m\u001b[0m\u001b[1;33m\u001b[0m\u001b[0m\n\u001b[0m",
      "\u001b[1;31mValueError\u001b[0m: cannot switch from automatic field numbering to manual field specification"
     ]
    }
   ],
   "source": [
    "\"{} {1} {2}\".format('1','2','3')"
   ]
  },
  {
   "cell_type": "code",
   "execution_count": 18,
   "id": "8150ee0d-6b73-4142-b0f3-17d8e8825286",
   "metadata": {},
   "outputs": [
    {
     "data": {
      "text/plain": [
       "[1, 3, 6, 10]"
      ]
     },
     "execution_count": 18,
     "metadata": {},
     "output_type": "execute_result"
    }
   ],
   "source": [
    "a=[1,2,3,4]\n",
    "[sum(a[0:x+1]) for x in range(0, len(a))]"
   ]
  },
  {
   "cell_type": "code",
   "execution_count": 19,
   "id": "6a5807a2-9514-428a-99f8-a94b5b8d6492",
   "metadata": {},
   "outputs": [],
   "source": [
    "def myFunction(val, parameters=[]):\n",
    "    parameters.append( val )\n",
    "    return parameters\n",
    "\n",
    "list1 = myFunction(\"nn\")# tellme output \n",
    "list2 = myFunction('j', [])\n",
    "l3 = myFunction('rs')"
   ]
  },
  {
   "cell_type": "code",
   "execution_count": 20,
   "id": "c1cefdcf-c180-4311-a8ea-711e58fdc0e4",
   "metadata": {},
   "outputs": [
    {
     "data": {
      "text/plain": [
       "(['nn', 'rs'], ['j'], ['nn', 'rs'])"
      ]
     },
     "execution_count": 20,
     "metadata": {},
     "output_type": "execute_result"
    }
   ],
   "source": [
    "list1, list2, l3"
   ]
  },
  {
   "cell_type": "code",
   "execution_count": 21,
   "id": "bb031015-45f2-46d4-818b-d0b3b29106b4",
   "metadata": {},
   "outputs": [],
   "source": [
    "a=[1,2,3,4]\n",
    "b = [5,6,7]"
   ]
  },
  {
   "cell_type": "code",
   "execution_count": 22,
   "id": "e0331468-c15f-487c-b334-a51b4f1706a3",
   "metadata": {},
   "outputs": [
    {
     "data": {
      "text/plain": [
       "[1, 2, 3, 4, 5, 6, 7]"
      ]
     },
     "execution_count": 22,
     "metadata": {},
     "output_type": "execute_result"
    }
   ],
   "source": [
    "a+b"
   ]
  },
  {
   "cell_type": "code",
   "execution_count": 23,
   "id": "c1d746f5-07f1-4c1f-981d-97ea5e4fe77d",
   "metadata": {},
   "outputs": [],
   "source": [
    "a.extend(b)"
   ]
  },
  {
   "cell_type": "code",
   "execution_count": 28,
   "id": "adeaaccf-2a5f-42c1-bb2a-4d9fd8e2ecba",
   "metadata": {},
   "outputs": [
    {
     "ename": "FileNotFoundError",
     "evalue": "[Errno 2] No such file or directory: '.test.txt'",
     "output_type": "error",
     "traceback": [
      "\u001b[1;31m---------------------------------------------------------------------------\u001b[0m",
      "\u001b[1;31mFileNotFoundError\u001b[0m                         Traceback (most recent call last)",
      "\u001b[1;32m<ipython-input-28-1628593c13d0>\u001b[0m in \u001b[0;36m<module>\u001b[1;34m\u001b[0m\n\u001b[1;32m----> 1\u001b[1;33m \u001b[1;32mwith\u001b[0m \u001b[0mopen\u001b[0m\u001b[1;33m(\u001b[0m\u001b[0mfile\u001b[0m\u001b[1;33m=\u001b[0m\u001b[1;34m\".test.txt\"\u001b[0m\u001b[1;33m,\u001b[0m \u001b[0mmode\u001b[0m\u001b[1;33m=\u001b[0m\u001b[1;34m'r'\u001b[0m\u001b[1;33m)\u001b[0m \u001b[1;32mas\u001b[0m \u001b[0mf\u001b[0m\u001b[1;33m:\u001b[0m\u001b[1;33m\u001b[0m\u001b[1;33m\u001b[0m\u001b[0m\n\u001b[0m\u001b[0;32m      2\u001b[0m     \u001b[1;32mpass\u001b[0m\u001b[1;33m\u001b[0m\u001b[1;33m\u001b[0m\u001b[0m\n",
      "\u001b[1;31mFileNotFoundError\u001b[0m: [Errno 2] No such file or directory: '.test.txt'"
     ]
    }
   ],
   "source": [
    "with open(file=\".test.txt\", mode='r') as f:\n",
    "    pass"
   ]
  },
  {
   "cell_type": "code",
   "execution_count": 29,
   "id": "4fa6a7b2-4869-45c8-91e6-a49d07f409c0",
   "metadata": {},
   "outputs": [],
   "source": [
    "def f(x, l=[]):\n",
    "    for i in range(x):\n",
    "        l.append(i*i)\n",
    "    print(l)"
   ]
  },
  {
   "cell_type": "code",
   "execution_count": 30,
   "id": "3b5377f8-9338-4ab9-b05d-2b29013ff9a4",
   "metadata": {},
   "outputs": [
    {
     "name": "stdout",
     "output_type": "stream",
     "text": [
      "[0, 1]\n"
     ]
    }
   ],
   "source": [
    "f(2)"
   ]
  },
  {
   "cell_type": "code",
   "execution_count": 31,
   "id": "5d78caaf-e1b0-423c-a81b-1eae2da7b7c5",
   "metadata": {},
   "outputs": [
    {
     "name": "stdout",
     "output_type": "stream",
     "text": [
      "[3, 2, 1, 0, 1, 4]\n"
     ]
    }
   ],
   "source": [
    "f(3, [3,2,1])"
   ]
  },
  {
   "cell_type": "code",
   "execution_count": 32,
   "id": "3ee91070-cf89-4e66-ab7b-2c3ee68d5e3b",
   "metadata": {},
   "outputs": [
    {
     "name": "stdout",
     "output_type": "stream",
     "text": [
      "[0, 1, 0, 1, 4]\n"
     ]
    }
   ],
   "source": [
    "f(3)"
   ]
  },
  {
   "cell_type": "code",
   "execution_count": 33,
   "id": "df98d1e2-30bc-4a47-884d-bacfa7a0d9b8",
   "metadata": {},
   "outputs": [],
   "source": [
    "t = '%(a)s %(b)s %(c)s'"
   ]
  },
  {
   "cell_type": "code",
   "execution_count": 34,
   "id": "6e5b3562-6ce9-48f7-a04b-7381394284eb",
   "metadata": {},
   "outputs": [
    {
     "name": "stdout",
     "output_type": "stream",
     "text": [
      "sss to kjdlf\n"
     ]
    }
   ],
   "source": [
    "print(t % dict(a='sss', b='to', c='kjdlf'))"
   ]
  },
  {
   "cell_type": "code",
   "execution_count": 35,
   "id": "37c89f2c-1495-4dcf-833a-f7d061b564e8",
   "metadata": {},
   "outputs": [],
   "source": [
    "import re \n"
   ]
  },
  {
   "cell_type": "code",
   "execution_count": 36,
   "id": "3fe2f057-e61d-4671-914d-2bc87b28c1d3",
   "metadata": {},
   "outputs": [
    {
     "data": {
      "text/plain": [
       "[]"
      ]
     },
     "execution_count": 36,
     "metadata": {},
     "output_type": "execute_result"
    }
   ],
   "source": [
    "re.findall(\"ww to tun\", 'ww', 1)"
   ]
  },
  {
   "cell_type": "code",
   "execution_count": 37,
   "id": "f4b073a5-fa76-4dd3-8054-636694842fdc",
   "metadata": {},
   "outputs": [
    {
     "ename": "AttributeError",
     "evalue": "'str' object has no attribute 'len'",
     "output_type": "error",
     "traceback": [
      "\u001b[1;31m---------------------------------------------------------------------------\u001b[0m",
      "\u001b[1;31mAttributeError\u001b[0m                            Traceback (most recent call last)",
      "\u001b[1;32m<ipython-input-37-50cebf2f6875>\u001b[0m in \u001b[0;36m<module>\u001b[1;34m\u001b[0m\n\u001b[1;32m----> 1\u001b[1;33m \u001b[1;34m\"ss\"\u001b[0m\u001b[1;33m.\u001b[0m\u001b[0mlen\u001b[0m\u001b[1;33m\u001b[0m\u001b[1;33m\u001b[0m\u001b[0m\n\u001b[0m",
      "\u001b[1;31mAttributeError\u001b[0m: 'str' object has no attribute 'len'"
     ]
    }
   ],
   "source": [
    "\"ss\".len"
   ]
  },
  {
   "cell_type": "code",
   "execution_count": 38,
   "id": "8f736b3d-bced-471b-83c7-df7c855f9c83",
   "metadata": {},
   "outputs": [
    {
     "data": {
      "text/plain": [
       "[1, 2, 3, 4, 5, 6, 7]"
      ]
     },
     "execution_count": 38,
     "metadata": {},
     "output_type": "execute_result"
    }
   ],
   "source": [
    "a"
   ]
  },
  {
   "cell_type": "code",
   "execution_count": 45,
   "id": "8da67829-1935-4806-9178-295b50881b80",
   "metadata": {},
   "outputs": [],
   "source": [
    "a = ['a', 'b']"
   ]
  },
  {
   "cell_type": "code",
   "execution_count": 46,
   "id": "ff8afb3f-183f-4cf8-b79e-4d8e811c24be",
   "metadata": {},
   "outputs": [
    {
     "ename": "TypeError",
     "evalue": "'int' object is not callable",
     "output_type": "error",
     "traceback": [
      "\u001b[1;31m---------------------------------------------------------------------------\u001b[0m",
      "\u001b[1;31mTypeError\u001b[0m                                 Traceback (most recent call last)",
      "\u001b[1;32m<ipython-input-46-610297fab49e>\u001b[0m in \u001b[0;36m<module>\u001b[1;34m\u001b[0m\n\u001b[1;32m----> 1\u001b[1;33m \u001b[0mlist\u001b[0m\u001b[1;33m(\u001b[0m\u001b[0mmap\u001b[0m\u001b[1;33m(\u001b[0m\u001b[0mlen\u001b[0m\u001b[1;33m(\u001b[0m\u001b[0ma\u001b[0m\u001b[1;33m)\u001b[0m\u001b[1;33m,\u001b[0m \u001b[0ma\u001b[0m\u001b[1;33m)\u001b[0m\u001b[1;33m)\u001b[0m\u001b[1;33m\u001b[0m\u001b[1;33m\u001b[0m\u001b[0m\n\u001b[0m",
      "\u001b[1;31mTypeError\u001b[0m: 'int' object is not callable"
     ]
    }
   ],
   "source": [
    "list(map(len(a), a))"
   ]
  },
  {
   "cell_type": "code",
   "execution_count": 47,
   "id": "2406abbd-00cb-4091-84ab-352ce058a2af",
   "metadata": {},
   "outputs": [
    {
     "data": {
      "text/plain": [
       "['a', 'b']"
      ]
     },
     "execution_count": 47,
     "metadata": {},
     "output_type": "execute_result"
    }
   ],
   "source": [
    "a"
   ]
  },
  {
   "cell_type": "code",
   "execution_count": 44,
   "id": "32b09deb-7969-492b-b429-d77ade553c81",
   "metadata": {},
   "outputs": [
    {
     "data": {
      "text/plain": [
       "[1, 1]"
      ]
     },
     "execution_count": 44,
     "metadata": {},
     "output_type": "execute_result"
    }
   ],
   "source": [
    "list(map(lambda a : len(a), a))"
   ]
  },
  {
   "cell_type": "code",
   "execution_count": 48,
   "id": "2ba2973c-66f6-423c-911f-c7d7bfe180b9",
   "metadata": {},
   "outputs": [],
   "source": [
    "b =a"
   ]
  },
  {
   "cell_type": "code",
   "execution_count": 49,
   "id": "cf377d48-904f-4675-bb69-7e2bd0df2149",
   "metadata": {},
   "outputs": [],
   "source": [
    "b[0] = 3"
   ]
  },
  {
   "cell_type": "code",
   "execution_count": 50,
   "id": "2a4b4f95-25aa-4bc3-a67b-c1ee9c3abc1a",
   "metadata": {},
   "outputs": [
    {
     "data": {
      "text/plain": [
       "[3, 'b']"
      ]
     },
     "execution_count": 50,
     "metadata": {},
     "output_type": "execute_result"
    }
   ],
   "source": [
    "a"
   ]
  },
  {
   "cell_type": "code",
   "execution_count": 51,
   "id": "266d4c84-ddcd-4493-ab70-65e2e98bc89f",
   "metadata": {},
   "outputs": [
    {
     "data": {
      "text/plain": [
       "<function __main__.f(x, l=[0, 1, 0, 1, 4])>"
      ]
     },
     "execution_count": 51,
     "metadata": {},
     "output_type": "execute_result"
    }
   ],
   "source": [
    "f"
   ]
  },
  {
   "cell_type": "code",
   "execution_count": null,
   "id": "b547ae21-79bd-4c5e-8f8c-1da47cf098c7",
   "metadata": {},
   "outputs": [],
   "source": []
  }
 ],
 "metadata": {
  "kernelspec": {
   "display_name": "Python 3 (ipykernel)",
   "language": "python",
   "name": "python3"
  },
  "language_info": {
   "codemirror_mode": {
    "name": "ipython",
    "version": 3
   },
   "file_extension": ".py",
   "mimetype": "text/x-python",
   "name": "python",
   "nbconvert_exporter": "python",
   "pygments_lexer": "ipython3",
   "version": "3.9.7"
  },
  "toc": {
   "base_numbering": 1,
   "nav_menu": {},
   "number_sections": true,
   "sideBar": true,
   "skip_h1_title": false,
   "title_cell": "Table of Contents",
   "title_sidebar": "Contents",
   "toc_cell": false,
   "toc_position": {},
   "toc_section_display": true,
   "toc_window_display": false
  }
 },
 "nbformat": 4,
 "nbformat_minor": 5
}
