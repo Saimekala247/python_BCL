{
 "cells": [
  {
   "cell_type": "markdown",
   "id": "b96fd51d-8c2b-4ff0-b01c-4d9c13603198",
   "metadata": {},
   "source": [
    "# Table of Contents\n",
    "\n",
    " - [1. Basic examples of a class and object](#Basic-examples-of-a-class-and-object)\n",
    " - [2. Features of OOP](#Features-of-OOP)\n",
    " - [3. The init constructor](#The-init-constructor)\n",
    " - [4. Instance, Instance attributes and methods](#Instance,-Instance-attributes-and-methods)\n",
    " - [5. Class methods and attributes](#Class-attributes-and-methods)\n",
    " - [6. OOP1 - Abstraction](#OOP1-:-Abstraction)\n",
    " - [7. OOP2 - Encapsulation](#OOP2-:-Encapsulation)\n",
    " - [8. OOP3 - Inheritance](#OOP3-:-Inheritance)\n",
    " - [9. OOP4 - Polymorphism](#OOP4-:-Polymorphism)\n",
    " - [10. OOP5 - Python's MRO](#Python-Multiple-Resolution-Order(MRO))\n",
    " - [11. Class methods and static methods](#Class-methods-and-static-methods)\n",
    " - [12. Magic Methods in Python](#Magic-Methods-in-Python)\n",
    " - [13. Decorators: Simplifying ](#)"
   ]
  },
  {
   "cell_type": "markdown",
   "id": "fd0d8b43-a8b4-4bff-9009-77f616931ec8",
   "metadata": {},
   "source": [
    "#  Basic examples of a class and object"
   ]
  },
  {
   "cell_type": "code",
   "execution_count": 1,
   "id": "021e99c7-e4be-4aa9-a39f-4f620ba23bd2",
   "metadata": {},
   "outputs": [],
   "source": [
    "class Account:\n",
    "    \"\"\"\n",
    "    base class implementing of class\n",
    "    \"\"\"\n",
    "    def __init__(self, acc_num=None, balance=None, acc_name=None):\n",
    "        self.acc_num = acc_num\n",
    "        self.balance = balance\n",
    "        self.acc_name = acc_name"
   ]
  },
  {
   "cell_type": "code",
   "execution_count": 2,
   "id": "e36f5caa-11d1-4ed0-b71e-8c215b4f5224",
   "metadata": {},
   "outputs": [],
   "source": [
    "acc_sai = Account(acc_num=\"SBI-1001\", balance=1000, acc_name='sai')\n",
    "acc_mano = Account(acc_num=\"SBI-1001\", balance=1000, acc_name='Manohar')"
   ]
  },
  {
   "cell_type": "code",
   "execution_count": 3,
   "id": "9679ed6c-6802-429a-b48b-d204f483d591",
   "metadata": {},
   "outputs": [
    {
     "data": {
      "text/plain": [
       "'sai'"
      ]
     },
     "execution_count": 3,
     "metadata": {},
     "output_type": "execute_result"
    }
   ],
   "source": [
    "acc_sai.acc_name"
   ]
  },
  {
   "cell_type": "code",
   "execution_count": 11,
   "id": "f40bec74-3ce7-49e0-b21b-099f42150838",
   "metadata": {},
   "outputs": [
    {
     "data": {
      "text/plain": [
       "'Manohar'"
      ]
     },
     "execution_count": 11,
     "metadata": {},
     "output_type": "execute_result"
    }
   ],
   "source": [
    "acc_mano.acc_name"
   ]
  },
  {
   "cell_type": "markdown",
   "id": "964d931c-6f28-4ed0-a7ed-7457e1767e2f",
   "metadata": {},
   "source": [
    "# Constructors"
   ]
  },
  {
   "cell_type": "code",
   "execution_count": 20,
   "id": "9d97f122-5a05-4999-b61b-7a3ce2d5689d",
   "metadata": {},
   "outputs": [],
   "source": [
    "class Account:\n",
    "    \"\"\"\n",
    "    base class implementing of class\n",
    "    \"\"\"\n",
    "    def __init__(self, acc_num=None, balance=None, acc_name=None):\n",
    "        self.acc_num = acc_num\n",
    "        self.balance = balance\n",
    "        self.acc_name = acc_name\n",
    "\n",
    "    def get_bal(self):\n",
    "        return self.balance"
   ]
  },
  {
   "cell_type": "code",
   "execution_count": 21,
   "id": "f9762d38-71df-4278-a4cf-9d4e92354ab4",
   "metadata": {},
   "outputs": [],
   "source": [
    "sai_acc = Account(acc_num=\"SBI-1001\", balance=1000, acc_name='sai')"
   ]
  },
  {
   "cell_type": "code",
   "execution_count": 28,
   "id": "54ba8566-a153-471d-8c64-5ba3b62ab99d",
   "metadata": {},
   "outputs": [
    {
     "ename": "NameError",
     "evalue": "name 'sai_acc' is not defined",
     "output_type": "error",
     "traceback": [
      "\u001b[1;31m---------------------------------------------------------------------------\u001b[0m",
      "\u001b[1;31mNameError\u001b[0m                                 Traceback (most recent call last)",
      "\u001b[1;32m~\\AppData\\Local\\Temp/ipykernel_8748/3288208458.py\u001b[0m in \u001b[0;36m<module>\u001b[1;34m\u001b[0m\n\u001b[1;32m----> 1\u001b[1;33m \u001b[0msai_acc\u001b[0m\u001b[1;33m.\u001b[0m\u001b[0mget_bal\u001b[0m\u001b[1;33m(\u001b[0m\u001b[1;33m)\u001b[0m\u001b[1;33m\u001b[0m\u001b[1;33m\u001b[0m\u001b[0m\n\u001b[0m",
      "\u001b[1;31mNameError\u001b[0m: name 'sai_acc' is not defined"
     ]
    }
   ],
   "source": [
    "sai_acc.get_bal()"
   ]
  },
  {
   "cell_type": "code",
   "execution_count": 23,
   "id": "afc80a27-e3c1-4cac-8061-31dc43ebd34f",
   "metadata": {},
   "outputs": [],
   "source": [
    "class Account:\n",
    "    \"\"\"\n",
    "    base class implementing of class\n",
    "    \"\"\"\n",
    "    def __init__(self, acc_num=None, balance=None, acc_name=None):\n",
    "        if acc_num[:3] == 'SBI': \n",
    "            self.acc_num = acc_num\n",
    "        else:\n",
    "            raise ValueError(\"Invalid account number\")\n",
    "        \n",
    "        if balance > 0:\n",
    "            self.balance = balance\n",
    "        else:\n",
    "            raise ValueError(\"Balance cannot be negative\")\n",
    "\n",
    "        self.acc_name = acc_name"
   ]
  },
  {
   "cell_type": "code",
   "execution_count": 24,
   "id": "15bc5ec2-3b1f-4aec-9f12-1e5b2dc52b06",
   "metadata": {},
   "outputs": [
    {
     "ename": "ValueError",
     "evalue": "Invalid account number",
     "output_type": "error",
     "traceback": [
      "\u001b[1;31m---------------------------------------------------------------------------\u001b[0m",
      "\u001b[1;31mValueError\u001b[0m                                Traceback (most recent call last)",
      "\u001b[1;32m<ipython-input-24-ec08efb03556>\u001b[0m in \u001b[0;36m<module>\u001b[1;34m\u001b[0m\n\u001b[1;32m----> 1\u001b[1;33m \u001b[0msai_acc\u001b[0m \u001b[1;33m=\u001b[0m \u001b[0mAccount\u001b[0m\u001b[1;33m(\u001b[0m\u001b[0macc_num\u001b[0m\u001b[1;33m=\u001b[0m\u001b[1;34m\"IB-1001\"\u001b[0m\u001b[1;33m,\u001b[0m \u001b[0mbalance\u001b[0m\u001b[1;33m=\u001b[0m\u001b[1;36m1000\u001b[0m\u001b[1;33m,\u001b[0m \u001b[0macc_name\u001b[0m\u001b[1;33m=\u001b[0m\u001b[1;34m'sai'\u001b[0m\u001b[1;33m)\u001b[0m\u001b[1;33m\u001b[0m\u001b[1;33m\u001b[0m\u001b[0m\n\u001b[0m",
      "\u001b[1;32m<ipython-input-23-712dafb98e59>\u001b[0m in \u001b[0;36m__init__\u001b[1;34m(self, acc_num, balance, acc_name)\u001b[0m\n\u001b[0;32m      7\u001b[0m             \u001b[0mself\u001b[0m\u001b[1;33m.\u001b[0m\u001b[0macc_num\u001b[0m \u001b[1;33m=\u001b[0m \u001b[0macc_num\u001b[0m\u001b[1;33m\u001b[0m\u001b[1;33m\u001b[0m\u001b[0m\n\u001b[0;32m      8\u001b[0m         \u001b[1;32melse\u001b[0m\u001b[1;33m:\u001b[0m\u001b[1;33m\u001b[0m\u001b[1;33m\u001b[0m\u001b[0m\n\u001b[1;32m----> 9\u001b[1;33m             \u001b[1;32mraise\u001b[0m \u001b[0mValueError\u001b[0m\u001b[1;33m(\u001b[0m\u001b[1;34m\"Invalid account number\"\u001b[0m\u001b[1;33m)\u001b[0m\u001b[1;33m\u001b[0m\u001b[1;33m\u001b[0m\u001b[0m\n\u001b[0m\u001b[0;32m     10\u001b[0m \u001b[1;33m\u001b[0m\u001b[0m\n\u001b[0;32m     11\u001b[0m         \u001b[1;32mif\u001b[0m \u001b[0mbalance\u001b[0m \u001b[1;33m>\u001b[0m \u001b[1;36m0\u001b[0m\u001b[1;33m:\u001b[0m\u001b[1;33m\u001b[0m\u001b[1;33m\u001b[0m\u001b[0m\n",
      "\u001b[1;31mValueError\u001b[0m: Invalid account number"
     ]
    }
   ],
   "source": [
    "sai_acc = Account(acc_num=\"IB-1001\", balance=1000, acc_name='sai')"
   ]
  },
  {
   "cell_type": "code",
   "execution_count": 25,
   "id": "55e91a24-3383-4b16-a784-cfbfe5b16b0d",
   "metadata": {},
   "outputs": [
    {
     "ename": "ValueError",
     "evalue": "Balance cannot be negative",
     "output_type": "error",
     "traceback": [
      "\u001b[1;31m---------------------------------------------------------------------------\u001b[0m",
      "\u001b[1;31mValueError\u001b[0m                                Traceback (most recent call last)",
      "\u001b[1;32m<ipython-input-25-99aa2c099b39>\u001b[0m in \u001b[0;36m<module>\u001b[1;34m\u001b[0m\n\u001b[1;32m----> 1\u001b[1;33m \u001b[0msai_acc\u001b[0m \u001b[1;33m=\u001b[0m \u001b[0mAccount\u001b[0m\u001b[1;33m(\u001b[0m\u001b[0macc_num\u001b[0m\u001b[1;33m=\u001b[0m\u001b[1;34m\"SBI-1001\"\u001b[0m\u001b[1;33m,\u001b[0m \u001b[0mbalance\u001b[0m\u001b[1;33m=\u001b[0m\u001b[1;33m-\u001b[0m\u001b[1;36m1000\u001b[0m\u001b[1;33m,\u001b[0m \u001b[0macc_name\u001b[0m\u001b[1;33m=\u001b[0m\u001b[1;34m'sai'\u001b[0m\u001b[1;33m)\u001b[0m\u001b[1;33m\u001b[0m\u001b[1;33m\u001b[0m\u001b[0m\n\u001b[0m",
      "\u001b[1;32m<ipython-input-23-712dafb98e59>\u001b[0m in \u001b[0;36m__init__\u001b[1;34m(self, acc_num, balance, acc_name)\u001b[0m\n\u001b[0;32m     12\u001b[0m             \u001b[0mself\u001b[0m\u001b[1;33m.\u001b[0m\u001b[0mbalance\u001b[0m \u001b[1;33m=\u001b[0m \u001b[0mbalance\u001b[0m\u001b[1;33m\u001b[0m\u001b[1;33m\u001b[0m\u001b[0m\n\u001b[0;32m     13\u001b[0m         \u001b[1;32melse\u001b[0m\u001b[1;33m:\u001b[0m\u001b[1;33m\u001b[0m\u001b[1;33m\u001b[0m\u001b[0m\n\u001b[1;32m---> 14\u001b[1;33m             \u001b[1;32mraise\u001b[0m \u001b[0mValueError\u001b[0m\u001b[1;33m(\u001b[0m\u001b[1;34m\"Balance cannot be negative\"\u001b[0m\u001b[1;33m)\u001b[0m\u001b[1;33m\u001b[0m\u001b[1;33m\u001b[0m\u001b[0m\n\u001b[0m\u001b[0;32m     15\u001b[0m \u001b[1;33m\u001b[0m\u001b[0m\n\u001b[0;32m     16\u001b[0m         \u001b[0mself\u001b[0m\u001b[1;33m.\u001b[0m\u001b[0macc_name\u001b[0m \u001b[1;33m=\u001b[0m \u001b[0macc_name\u001b[0m\u001b[1;33m\u001b[0m\u001b[1;33m\u001b[0m\u001b[0m\n",
      "\u001b[1;31mValueError\u001b[0m: Balance cannot be negative"
     ]
    }
   ],
   "source": [
    "sai_acc = Account(acc_num=\"SBI-1001\", balance=-1000, acc_name='sai')"
   ]
  },
  {
   "cell_type": "code",
   "execution_count": 29,
   "id": "1808a6b0-07e9-469e-8de0-3e762513a1a8",
   "metadata": {},
   "outputs": [],
   "source": [
    "class Account:\n",
    "    \"\"\"\n",
    "    base class implementing of class\n",
    "    \"\"\"\n",
    "    def __init__(self, acc_num=None, balance=None, acc_name=None, interest_rate = 0.04):\n",
    "        if acc_num[:3] == 'SBI': \n",
    "            self.acc_num = acc_num\n",
    "        else:\n",
    "            raise ValueError(\"Invalid account number\")\n",
    "        \n",
    "        if balance > 0:\n",
    "            self.balance = balance\n",
    "        else:\n",
    "            raise ValueError(\"Balance cannot be negative\")\n",
    "\n",
    "        self.acc_name = acc_name\n",
    "        self.interest_rate = interest_rate\n",
    "        \n",
    "    def get_info(self):\n",
    "        print(f'{self.acc_name}, account Number : {self.acc_num} has a balance: {self.balance} with interest rate: {self.interest_rate*100}%')"
   ]
  },
  {
   "cell_type": "code",
   "execution_count": 30,
   "id": "09f5f264-5a2f-4bf5-a0e5-bd3453d481ca",
   "metadata": {},
   "outputs": [],
   "source": [
    "sai_acc = Account(acc_num=\"SBI-1001\", balance=1000, acc_name='sai')"
   ]
  },
  {
   "cell_type": "code",
   "execution_count": 31,
   "id": "7bcc1b49-e5cf-4417-a3d9-ef01f5fee3c0",
   "metadata": {},
   "outputs": [
    {
     "name": "stdout",
     "output_type": "stream",
     "text": [
      "sai, account Number : SBI-1001 has a balance: 1000 with interest rate: 4.0%\n"
     ]
    }
   ],
   "source": [
    "sai_acc.get_info()"
   ]
  },
  {
   "cell_type": "code",
   "execution_count": null,
   "id": "18102df3-0f4a-472a-9fca-ec923ecc7014",
   "metadata": {},
   "outputs": [],
   "source": [
    "# class attribute"
   ]
  },
  {
   "cell_type": "code",
   "execution_count": 45,
   "id": "d1293566-d2f7-4abc-9128-f2b3a3a3b074",
   "metadata": {},
   "outputs": [],
   "source": [
    "class Account:\n",
    "    \"\"\"\n",
    "    base class implementing of class\n",
    "    \"\"\"\n",
    "    \n",
    "    bank_name = \"SBI\"\n",
    "    def __init__(self, acc_num=None, balance=None, acc_name=None, interest_rate = 0.04):\n",
    "        if acc_num[:3] == 'SBI': \n",
    "            self.acc_num = acc_num\n",
    "        else:\n",
    "            raise ValueError(\"Invalid account number\")\n",
    "        \n",
    "        if balance > 0:\n",
    "            self.balance = balance\n",
    "        else:\n",
    "            raise ValueError(\"Balance cannot be negative\")\n",
    "\n",
    "        self.acc_name = acc_name\n",
    "        self.interest_rate = interest_rate\n",
    "\n",
    "    def get_info(self):\n",
    "        print(f'{self.acc_name}, account Number : {self.acc_num} has a balance: {self.balance} with interest rate: {self.interest_rate*100}%')\n",
    "\n",
    "    @classmethod\n",
    "    def print_bank(cls):\n",
    "        print(f\"The name of the bank : {cls.bank_name}\")"
   ]
  },
  {
   "cell_type": "code",
   "execution_count": 46,
   "id": "b32970c0-18b2-43e6-9cc2-4b848acfa585",
   "metadata": {},
   "outputs": [],
   "source": [
    "sai_acc = Account(acc_num=\"SBI-1001\", balance=1000, acc_name='sai')"
   ]
  },
  {
   "cell_type": "code",
   "execution_count": 47,
   "id": "ba781608-5c48-4588-8add-4adf093286ad",
   "metadata": {},
   "outputs": [
    {
     "name": "stdout",
     "output_type": "stream",
     "text": [
      "The name of the bank : SBI\n"
     ]
    }
   ],
   "source": [
    "sai_acc.print_bank()"
   ]
  },
  {
   "cell_type": "code",
   "execution_count": 48,
   "id": "69c22553-ff7b-4db9-8f12-d4c3c0367309",
   "metadata": {},
   "outputs": [
    {
     "data": {
      "text/plain": [
       "'SBI-1001'"
      ]
     },
     "execution_count": 48,
     "metadata": {},
     "output_type": "execute_result"
    }
   ],
   "source": [
    "sai_acc.acc_num"
   ]
  },
  {
   "cell_type": "code",
   "execution_count": 20,
   "id": "c54605b1-e3ac-4057-a91d-011f1f74fe07",
   "metadata": {},
   "outputs": [],
   "source": [
    "# # excerise\n",
    "# create college id \n",
    "# develop this for atleast 10 students and 3 colleges\n",
    "\n",
    "# College Name\n",
    "\n",
    "# Name : \n",
    "# id/ roll : \n",
    "# blood grp : \n",
    "# moblie : \n",
    "# address :"
   ]
  },
  {
   "cell_type": "code",
   "execution_count": 39,
   "id": "77fd5623-3d59-409f-9ca5-f56ee8e2c578",
   "metadata": {},
   "outputs": [],
   "source": [
    "# Encapsulation"
   ]
  },
  {
   "cell_type": "code",
   "execution_count": 51,
   "id": "97e2136c-2739-43be-8f83-ca87264f2f7e",
   "metadata": {},
   "outputs": [],
   "source": [
    "class Account:\n",
    "    \"\"\"\n",
    "    base class implementing of class\n",
    "    \"\"\"\n",
    "    \n",
    "    __bank_name = \"SBI\"\n",
    "    def __init__(self, acc_num=None, balance=None, acc_name=None, interest_rate = 0.04):\n",
    "        if acc_num[:3] == 'SBI': \n",
    "            self.__acc_num = acc_num\n",
    "        else:\n",
    "            raise ValueError(\"Invalid account number\")\n",
    "        \n",
    "        if balance > 0:\n",
    "            self.__balance = balance\n",
    "        else:\n",
    "            raise ValueError(\"Balance cannot be negative\")\n",
    "\n",
    "        self.__acc_name = acc_name\n",
    "        self.__interest_rate = interest_rate\n",
    "\n",
    "    def get_info(self):\n",
    "        print(f'{self.__acc_name}, account Number : {self.__acc_num} has a balance: {self.__balance} with interest rate: {self.__interest_rate*100}%')\n",
    "\n",
    "    @classmethod\n",
    "    def print_bank(cls):\n",
    "        print(f\"The name of the bank : {cls.__bank_name}\")\n",
    "        \n",
    "    def addBalance(self, amount):\n",
    "        if amount < 0:\n",
    "            raise ValueError(\"Balance cannot be negative\")\n",
    "        self.__balance += amount\n",
    "        \n",
    "    def removeBalance(self, amount):\n",
    "        if amount < 0:\n",
    "            raise ValueError(\"Balance cannot be negative\")\n",
    "            \n",
    "        if amount > self.__balance:\n",
    "            raise ValueError(\"Insufficient funds\")\n",
    "        self.__balance -= amount\n",
    "        \n",
    "    def getBalance(self):\n",
    "        return self.__balance\n",
    "    \n",
    "    def getNumber(self):\n",
    "        return self.__acc_num\n",
    "    \n",
    "    \n",
    "    def getHolderName(self):\n",
    "        return self.__acc_name\n",
    "    \n",
    "        \n",
    "    def getInterestRate(self):\n",
    "        return self.__interest_rate"
   ]
  },
  {
   "cell_type": "code",
   "execution_count": 52,
   "id": "3a6d5d98-655c-4690-9453-119fc80eb515",
   "metadata": {},
   "outputs": [],
   "source": [
    "sai_acc = Account(acc_num=\"SBI-1001\", balance=1000, acc_name='sai')"
   ]
  },
  {
   "cell_type": "code",
   "execution_count": 53,
   "id": "1ba5dd97-a5ba-4d5b-8ee8-95c92fdfbd3b",
   "metadata": {},
   "outputs": [
    {
     "data": {
      "text/plain": [
       "1000"
      ]
     },
     "execution_count": 53,
     "metadata": {},
     "output_type": "execute_result"
    }
   ],
   "source": [
    "sai_acc.getBalance()"
   ]
  },
  {
   "cell_type": "code",
   "execution_count": 54,
   "id": "3ece0e93-add1-44c0-8539-0397fec7a910",
   "metadata": {},
   "outputs": [],
   "source": [
    "sai_acc.addBalance(100000)"
   ]
  },
  {
   "cell_type": "code",
   "execution_count": 55,
   "id": "f958cf93-f29c-4f47-95b6-429c258c2ef9",
   "metadata": {},
   "outputs": [
    {
     "data": {
      "text/plain": [
       "101000"
      ]
     },
     "execution_count": 55,
     "metadata": {},
     "output_type": "execute_result"
    }
   ],
   "source": [
    "sai_acc.getBalance()"
   ]
  },
  {
   "cell_type": "code",
   "execution_count": 56,
   "id": "3b9a6293-6baf-4a51-bcaa-5047c8383c70",
   "metadata": {},
   "outputs": [
    {
     "ename": "ValueError",
     "evalue": "Insufficient funds",
     "output_type": "error",
     "traceback": [
      "\u001b[1;31m---------------------------------------------------------------------------\u001b[0m",
      "\u001b[1;31mValueError\u001b[0m                                Traceback (most recent call last)",
      "\u001b[1;32m<ipython-input-56-c017b95d2803>\u001b[0m in \u001b[0;36m<module>\u001b[1;34m\u001b[0m\n\u001b[1;32m----> 1\u001b[1;33m \u001b[0msai_acc\u001b[0m\u001b[1;33m.\u001b[0m\u001b[0mremoveBalance\u001b[0m\u001b[1;33m(\u001b[0m\u001b[1;36m20000000\u001b[0m\u001b[1;33m)\u001b[0m\u001b[1;33m\u001b[0m\u001b[1;33m\u001b[0m\u001b[0m\n\u001b[0m",
      "\u001b[1;32m<ipython-input-51-5c26bb56125b>\u001b[0m in \u001b[0;36mremoveBalance\u001b[1;34m(self, amount)\u001b[0m\n\u001b[0;32m     36\u001b[0m \u001b[1;33m\u001b[0m\u001b[0m\n\u001b[0;32m     37\u001b[0m         \u001b[1;32mif\u001b[0m \u001b[0mamount\u001b[0m \u001b[1;33m>\u001b[0m \u001b[0mself\u001b[0m\u001b[1;33m.\u001b[0m\u001b[0m__balance\u001b[0m\u001b[1;33m:\u001b[0m\u001b[1;33m\u001b[0m\u001b[1;33m\u001b[0m\u001b[0m\n\u001b[1;32m---> 38\u001b[1;33m             \u001b[1;32mraise\u001b[0m \u001b[0mValueError\u001b[0m\u001b[1;33m(\u001b[0m\u001b[1;34m\"Insufficient funds\"\u001b[0m\u001b[1;33m)\u001b[0m\u001b[1;33m\u001b[0m\u001b[1;33m\u001b[0m\u001b[0m\n\u001b[0m\u001b[0;32m     39\u001b[0m         \u001b[0mself\u001b[0m\u001b[1;33m.\u001b[0m\u001b[0m__balance\u001b[0m \u001b[1;33m-=\u001b[0m \u001b[0mamount\u001b[0m\u001b[1;33m\u001b[0m\u001b[1;33m\u001b[0m\u001b[0m\n\u001b[0;32m     40\u001b[0m \u001b[1;33m\u001b[0m\u001b[0m\n",
      "\u001b[1;31mValueError\u001b[0m: Insufficient funds"
     ]
    }
   ],
   "source": [
    "sai_acc.removeBalance(20000000)"
   ]
  },
  {
   "cell_type": "code",
   "execution_count": 57,
   "id": "496d6c6e-efd9-4a1a-baee-0c41d072ad6a",
   "metadata": {},
   "outputs": [],
   "source": [
    "# inheritance"
   ]
  },
  {
   "cell_type": "code",
   "execution_count": 58,
   "id": "3e00aae8-1f63-4d4a-9f24-103f74831501",
   "metadata": {},
   "outputs": [],
   "source": [
    "class ManoharBank(Account):\n",
    "    def __init__(self, acc_num=None, balance=None, acc_name=None, interest_rate = None):\n",
    "        super().__init__(acc_num, balance, acc_name, interest_rate)"
   ]
  },
  {
   "cell_type": "code",
   "execution_count": 59,
   "id": "eb25face-6a46-4fce-b14c-add121a889fa",
   "metadata": {},
   "outputs": [],
   "source": [
    "mano_acc = ManoharBank(acc_num=\"SBI-1001\", balance=100, acc_name='Mano', interest_rate=0.08)"
   ]
  },
  {
   "cell_type": "code",
   "execution_count": 60,
   "id": "a47b8829-b7eb-4525-9a67-6c74aa054c2c",
   "metadata": {},
   "outputs": [
    {
     "name": "stdout",
     "output_type": "stream",
     "text": [
      "Mano, account Number : SBI-1001 has a balance: 100 with interest rate: 8.0%\n"
     ]
    }
   ],
   "source": [
    "mano_acc.get_info()"
   ]
  },
  {
   "cell_type": "code",
   "execution_count": 61,
   "id": "9d794267-3631-47f1-b51f-55aac94a2976",
   "metadata": {},
   "outputs": [
    {
     "data": {
      "text/plain": [
       "100"
      ]
     },
     "execution_count": 61,
     "metadata": {},
     "output_type": "execute_result"
    }
   ],
   "source": [
    "mano_acc.getBalance()"
   ]
  },
  {
   "cell_type": "code",
   "execution_count": 64,
   "id": "13e297c2-b22f-42aa-826f-42d0a66b0d25",
   "metadata": {},
   "outputs": [],
   "source": [
    "#abstraction\n"
   ]
  },
  {
   "cell_type": "code",
   "execution_count": 62,
   "id": "a009a322-34f9-47f6-9f9f-323ebe2e98b9",
   "metadata": {},
   "outputs": [],
   "source": [
    "from abc import ABC, abstractclassmethod"
   ]
  },
  {
   "cell_type": "code",
   "execution_count": 84,
   "id": "3d370055-3827-494a-865a-bcf1f6e30881",
   "metadata": {},
   "outputs": [],
   "source": [
    "class RBI_BANK(ABC):\n",
    "    \n",
    "    @abstractclassmethod\n",
    "    def account_number(self):\n",
    "        print(\"syed\")\n",
    "    \n",
    "    @abstractclassmethod\n",
    "    def holder_name(self):\n",
    "        pass\n",
    "\n",
    "    @abstractclassmethod\n",
    "    def address(self):\n",
    "        pass\n",
    "\n",
    "    @abstractclassmethod\n",
    "    def moblie_number(self):\n",
    "        pass\n",
    "\n",
    "    @abstractclassmethod\n",
    "    def aadhar(self):\n",
    "        pass\n"
   ]
  },
  {
   "cell_type": "code",
   "execution_count": 93,
   "id": "be4d6f64-2dc1-4406-bd4b-fab780957021",
   "metadata": {},
   "outputs": [],
   "source": [
    "class SBI_BANK(RBI_BANK):\n",
    "    def __init__(self, acc_num, name, address, phone):\n",
    "        pass\n",
    "    \n",
    "    def account_number(self):\n",
    "        print('some message')\n",
    "\n",
    "    def holder_name(self):\n",
    "        pass\n",
    "    \n",
    "    def address(self):\n",
    "        pass\n",
    "\n",
    "    def moblie_number(self):\n",
    "        pass\n",
    "\n",
    "    def aadhar(self):\n",
    "        pass"
   ]
  },
  {
   "cell_type": "code",
   "execution_count": 94,
   "id": "6a982e0b-f83a-49c7-af2b-7d5a7ac54ebf",
   "metadata": {},
   "outputs": [],
   "source": [
    "sbi_acc = SBI_BANK(\"sbi-009\", \"Syed\", \"Musherabd\", 3428483)"
   ]
  },
  {
   "cell_type": "code",
   "execution_count": 95,
   "id": "5e93eccb-ad16-4305-a3c3-37d2891ce236",
   "metadata": {},
   "outputs": [
    {
     "name": "stdout",
     "output_type": "stream",
     "text": [
      "some message\n"
     ]
    }
   ],
   "source": [
    "sbi_acc.account_number()"
   ]
  },
  {
   "cell_type": "code",
   "execution_count": 96,
   "id": "ae652c27-b5a4-4ac1-a538-64caed28fd5b",
   "metadata": {},
   "outputs": [],
   "source": [
    "#ploymorphim"
   ]
  },
  {
   "cell_type": "code",
   "execution_count": 110,
   "id": "9f5bea29-8026-4ab8-8abb-a3c38ec63b1c",
   "metadata": {},
   "outputs": [],
   "source": [
    "class ManoharBank(Account):\n",
    "    def __init__(self, acc_num=None, balance=None, acc_name=None, interest_rate = None):\n",
    "        super().__init__(acc_num, balance, acc_name, interest_rate)\n",
    "        \n",
    "    def get_info(self):\n",
    "        print(f'Welcome : Manohar Bank {self.getHolderName()}, account Number : {self.getNumber()} has a balance: {self.getBalance()} with interest rate: {self.getInterestRate()*100}%')\n"
   ]
  },
  {
   "cell_type": "code",
   "execution_count": 111,
   "id": "fb4281e1-5677-4851-8351-5e23029b60f9",
   "metadata": {},
   "outputs": [],
   "source": [
    "mano_acc = ManoharBank(acc_num=\"SBI-1001\", balance=100, acc_name='Mano', interest_rate=0.08)"
   ]
  },
  {
   "cell_type": "code",
   "execution_count": 112,
   "id": "8e440174-b185-47dd-9386-9f707e63d73d",
   "metadata": {},
   "outputs": [
    {
     "name": "stdout",
     "output_type": "stream",
     "text": [
      "Welcome : Manohar Bank Mano, account Number : SBI-1001 has a balance: 100 with interest rate: 8.0%\n"
     ]
    }
   ],
   "source": [
    "mano_acc.get_info()"
   ]
  },
  {
   "cell_type": "code",
   "execution_count": 117,
   "id": "2390fa34-7135-4414-84fd-822e0c3757b0",
   "metadata": {},
   "outputs": [],
   "source": [
    "#Main"
   ]
  },
  {
   "cell_type": "code",
   "execution_count": 118,
   "id": "81f97a4f-ac5b-4e84-91ec-2edce82844e0",
   "metadata": {},
   "outputs": [
    {
     "name": "stdout",
     "output_type": "stream",
     "text": [
      "Welcome : Manohar Bank Mano, account Number : SBI-1001 has a balance: 100 with interest rate: 8.0%\n"
     ]
    }
   ],
   "source": [
    "if __name__ == \"__main__\":\n",
    "    mano_acc = ManoharBank(acc_num=\"SBI-1001\", balance=100, acc_name='Mano', interest_rate=0.08)\n",
    "    mano_acc.get_info()"
   ]
  },
  {
   "cell_type": "code",
   "execution_count": 113,
   "id": "74c5b8d5-321c-40c0-a957-ce485af3fb6f",
   "metadata": {},
   "outputs": [],
   "source": [
    "# Muliple Resolution Order"
   ]
  },
  {
   "cell_type": "markdown",
   "id": "d13e9ea6-8193-48dc-93dd-a5864b40b3fc",
   "metadata": {},
   "source": [
    "           A\n",
    "          /\n",
    "         B    C\n",
    "          \\  /\n",
    "           \\/\n",
    "           D"
   ]
  },
  {
   "cell_type": "code",
   "execution_count": 147,
   "id": "d6df0328-08b7-4cd4-b4a4-f57fd5b14f98",
   "metadata": {},
   "outputs": [],
   "source": [
    "class A:\n",
    "    def get_info(self):\n",
    "        print(\"i am in class A\")\n",
    "        \n",
    "class B(A):\n",
    "    def get_info(self):\n",
    "        A().get_info()\n",
    "        print(\"i am in class B\")\n",
    "        \n",
    "        \n",
    "class C:\n",
    "    def get_info(self):\n",
    "        print(\"i am in class C\")\n",
    "        \n",
    "class D(B, C):\n",
    "    pass"
   ]
  },
  {
   "cell_type": "code",
   "execution_count": 148,
   "id": "6e03f6d8-05ce-4348-a2c8-282ddaae6e4e",
   "metadata": {},
   "outputs": [],
   "source": [
    "d = D()"
   ]
  },
  {
   "cell_type": "code",
   "execution_count": 149,
   "id": "14028e08-7ff9-428e-8615-7d8c36d181d3",
   "metadata": {},
   "outputs": [
    {
     "name": "stdout",
     "output_type": "stream",
     "text": [
      "i am in class A\n",
      "i am in class B\n"
     ]
    }
   ],
   "source": [
    "d.get_info()"
   ]
  },
  {
   "cell_type": "code",
   "execution_count": 150,
   "id": "ebbb1695-0e01-421a-84c6-47bf3a237ab4",
   "metadata": {},
   "outputs": [],
   "source": [
    "# static methods"
   ]
  },
  {
   "cell_type": "code",
   "execution_count": 176,
   "id": "9125005b-315d-481f-87eb-be295751e49a",
   "metadata": {},
   "outputs": [],
   "source": [
    "class Account:\n",
    "    \"\"\"\n",
    "    base class implementing of class\n",
    "    \"\"\"\n",
    "    \n",
    "    __bank_name = \"SBI\"\n",
    "    def __init__(self, acc_num=None, balance=None, acc_name=None, interest_rate = 0.04):\n",
    "        if acc_num[:3] == 'SBI': \n",
    "            self.__acc_num = acc_num\n",
    "        else:\n",
    "            raise ValueError(\"Invalid account number\")\n",
    "        \n",
    "        if balance > 0:\n",
    "            self.__balance = balance\n",
    "        else:\n",
    "            raise ValueError(\"Balance cannot be negative\")\n",
    "\n",
    "        self.__acc_name = acc_name\n",
    "        self.__interest_rate = interest_rate\n",
    "\n",
    "    def get_info(self):\n",
    "        print(f'{self.__acc_name}, account Number : {self.__acc_num} has a balance: {self.__balance} with interest rate: {self.__interest_rate*100}%')\n",
    "\n",
    "    @classmethod\n",
    "    def print_bank(cls):\n",
    "        print(f\"The name of the bank : {cls.__bank_name}\")\n",
    "\n",
    "    def addBalance(self, amount):\n",
    "        if amount < 0:\n",
    "            raise ValueError(\"Balance cannot be negative\")\n",
    "        self.__balance += amount\n",
    "\n",
    "    def removeBalance(self, amount):\n",
    "        if amount < 0:\n",
    "            raise ValueError(\"Balance cannot be negative\")\n",
    "            \n",
    "        if amount > self.__balance:\n",
    "            raise ValueError(\"Insufficient funds\")\n",
    "        self.__balance -= amount\n",
    "        \n",
    "    def getBalance(self):\n",
    "        return self.__balance\n",
    "    \n",
    "    def getNumber(self):\n",
    "        return self.__acc_num\n",
    "    \n",
    "    def getHolderName(self):\n",
    "        return self.__acc_name\n",
    "    \n",
    "    def getInterestRate(self):\n",
    "        return self.__interest_rate\n",
    "\n",
    "    @staticmethod\n",
    "    def callInterestRate(balance, time, interest):\n",
    "        return (balance * interest * time) / 12\n",
    "\n",
    "    def callInterestSum(self, time):\n",
    "        return self.callInterestRate(self.__balance, time, self.__interest_rate)\n",
    "        \n",
    "    "
   ]
  },
  {
   "cell_type": "code",
   "execution_count": 177,
   "id": "4a9f03f4-2c02-4643-9134-9bbbc98d59e0",
   "metadata": {},
   "outputs": [],
   "source": [
    "sai_acc = Account(acc_num=\"SBI-1001\", balance=1000, acc_name='sai')"
   ]
  },
  {
   "cell_type": "code",
   "execution_count": 178,
   "id": "a5ffc06c-9280-4022-9b70-fae0a7ffff4a",
   "metadata": {},
   "outputs": [
    {
     "data": {
      "text/plain": [
       "<__main__.Account at 0x21c2eee4310>"
      ]
     },
     "execution_count": 178,
     "metadata": {},
     "output_type": "execute_result"
    }
   ],
   "source": [
    "sai_acc"
   ]
  },
  {
   "cell_type": "code",
   "execution_count": 165,
   "id": "7170df73-c010-4d7e-84bc-3e38c21519e4",
   "metadata": {},
   "outputs": [],
   "source": [
    "bal = sai_acc.getBalance()\n",
    "interest = sai_acc.getInterestRate()"
   ]
  },
  {
   "cell_type": "code",
   "execution_count": 166,
   "id": "1e1c5e77-b378-4133-aaf8-7a0f4752ec3f",
   "metadata": {},
   "outputs": [
    {
     "data": {
      "text/plain": [
       "80.0"
      ]
     },
     "execution_count": 166,
     "metadata": {},
     "output_type": "execute_result"
    }
   ],
   "source": [
    "\n",
    "sai_acc.callInterestRate(bal, 24, interest )"
   ]
  },
  {
   "cell_type": "code",
   "execution_count": 168,
   "id": "3449db7e-33e2-45e4-8549-bc74cb40474f",
   "metadata": {},
   "outputs": [
    {
     "data": {
      "text/plain": [
       "40.0"
      ]
     },
     "execution_count": 168,
     "metadata": {},
     "output_type": "execute_result"
    }
   ],
   "source": [
    "sai_acc.callInterestSum(12)"
   ]
  },
  {
   "cell_type": "code",
   "execution_count": 169,
   "id": "0c185d7c-8cbb-4779-968b-48610e4ce676",
   "metadata": {},
   "outputs": [
    {
     "data": {
      "text/plain": [
       "['__add__',\n",
       " '__class__',\n",
       " '__contains__',\n",
       " '__delattr__',\n",
       " '__dir__',\n",
       " '__doc__',\n",
       " '__eq__',\n",
       " '__format__',\n",
       " '__ge__',\n",
       " '__getattribute__',\n",
       " '__getitem__',\n",
       " '__getnewargs__',\n",
       " '__gt__',\n",
       " '__hash__',\n",
       " '__init__',\n",
       " '__init_subclass__',\n",
       " '__iter__',\n",
       " '__le__',\n",
       " '__len__',\n",
       " '__lt__',\n",
       " '__mod__',\n",
       " '__mul__',\n",
       " '__ne__',\n",
       " '__new__',\n",
       " '__reduce__',\n",
       " '__reduce_ex__',\n",
       " '__repr__',\n",
       " '__rmod__',\n",
       " '__rmul__',\n",
       " '__setattr__',\n",
       " '__sizeof__',\n",
       " '__str__',\n",
       " '__subclasshook__',\n",
       " 'capitalize',\n",
       " 'casefold',\n",
       " 'center',\n",
       " 'count',\n",
       " 'encode',\n",
       " 'endswith',\n",
       " 'expandtabs',\n",
       " 'find',\n",
       " 'format',\n",
       " 'format_map',\n",
       " 'index',\n",
       " 'isalnum',\n",
       " 'isalpha',\n",
       " 'isascii',\n",
       " 'isdecimal',\n",
       " 'isdigit',\n",
       " 'isidentifier',\n",
       " 'islower',\n",
       " 'isnumeric',\n",
       " 'isprintable',\n",
       " 'isspace',\n",
       " 'istitle',\n",
       " 'isupper',\n",
       " 'join',\n",
       " 'ljust',\n",
       " 'lower',\n",
       " 'lstrip',\n",
       " 'maketrans',\n",
       " 'partition',\n",
       " 'replace',\n",
       " 'rfind',\n",
       " 'rindex',\n",
       " 'rjust',\n",
       " 'rpartition',\n",
       " 'rsplit',\n",
       " 'rstrip',\n",
       " 'split',\n",
       " 'splitlines',\n",
       " 'startswith',\n",
       " 'strip',\n",
       " 'swapcase',\n",
       " 'title',\n",
       " 'translate',\n",
       " 'upper',\n",
       " 'zfill']"
      ]
     },
     "execution_count": 169,
     "metadata": {},
     "output_type": "execute_result"
    }
   ],
   "source": [
    "dir(str)"
   ]
  },
  {
   "cell_type": "code",
   "execution_count": 173,
   "id": "2042c0d5-755b-498b-9dcd-8d68cb6b9082",
   "metadata": {},
   "outputs": [
    {
     "data": {
      "text/plain": [
       "'aaa'"
      ]
     },
     "execution_count": 173,
     "metadata": {},
     "output_type": "execute_result"
    }
   ],
   "source": [
    "\"aa\".__add__(\"a\")"
   ]
  },
  {
   "cell_type": "code",
   "execution_count": 187,
   "id": "3c1b3525-00f3-45f7-9241-b2d0eaeffe1c",
   "metadata": {},
   "outputs": [],
   "source": [
    "class Account:\n",
    "    \"\"\"\n",
    "    base class implementing of class\n",
    "    \"\"\"\n",
    "    \n",
    "    __bank_name = \"SBI\"\n",
    "    def __init__(self, acc_num=None, balance=None, acc_name=None, interest_rate = 0.04):\n",
    "        if acc_num[:3] == 'SBI': \n",
    "            self.__acc_num = acc_num\n",
    "        else:\n",
    "            raise ValueError(\"Invalid account number\")\n",
    "        \n",
    "        if balance > 0:\n",
    "            self.__balance = balance\n",
    "        else:\n",
    "            raise ValueError(\"Balance cannot be negative\")\n",
    "\n",
    "        self.__acc_name = acc_name\n",
    "        self.__interest_rate = interest_rate\n",
    "\n",
    "    def __repr__(self):\n",
    "        return(f'{self.__acc_name}, account Number : {self.__acc_num} has a balance: {self.__balance} with interest rate: {self.__interest_rate*100}%')\n",
    "    \n",
    "    def __add__(self, other):\n",
    "         return Account(self.getNumber(), self.getBalance()+ other.getBalance(), self.getHolderName())\n",
    "        \n",
    "    def get_info(self):\n",
    "        print(f'{self.__acc_name}, account Number : {self.__acc_num} has a balance: {self.__balance} with interest rate: {self.__interest_rate*100}%')\n",
    "\n",
    "    @classmethod\n",
    "    def print_bank(cls):\n",
    "        print(f\"The name of the bank : {cls.__bank_name}\")\n",
    "\n",
    "    def addBalance(self, amount):\n",
    "        if amount < 0:\n",
    "            raise ValueError(\"Balance cannot be negative\")\n",
    "        self.__balance += amount\n",
    "\n",
    "    def removeBalance(self, amount):\n",
    "        if amount < 0:\n",
    "            raise ValueError(\"Balance cannot be negative\")\n",
    "            \n",
    "        if amount > self.__balance:\n",
    "            raise ValueError(\"Insufficient funds\")\n",
    "        self.__balance -= amount\n",
    "        \n",
    "    def getBalance(self):\n",
    "        return self.__balance\n",
    "    \n",
    "    def getNumber(self):\n",
    "        return self.__acc_num\n",
    "    \n",
    "    def getHolderName(self):\n",
    "        return self.__acc_name\n",
    "    \n",
    "    def getInterestRate(self):\n",
    "        return self.__interest_rate\n",
    "\n",
    "    @staticmethod\n",
    "    def callInterestRate(balance, time, interest):\n",
    "        return (balance * interest * time) / 12\n",
    "\n",
    "    def callInterestSum(self, time):\n",
    "        return self.callInterestRate(self.__balance, time, self.__interest_rate)\n",
    "        \n",
    "    "
   ]
  },
  {
   "cell_type": "code",
   "execution_count": 188,
   "id": "bb500212-0f57-4df1-84e5-8f1713ee778f",
   "metadata": {},
   "outputs": [],
   "source": [
    "sai_acc = Account(acc_num=\"SBI-1001\", balance=1000, acc_name='sai')"
   ]
  },
  {
   "cell_type": "code",
   "execution_count": 189,
   "id": "7d233786-033d-45ce-8a70-9d85163bea04",
   "metadata": {},
   "outputs": [
    {
     "data": {
      "text/plain": [
       "sai, account Number : SBI-1001 has a balance: 1000 with interest rate: 4.0%"
      ]
     },
     "execution_count": 189,
     "metadata": {},
     "output_type": "execute_result"
    }
   ],
   "source": [
    "sai_acc"
   ]
  },
  {
   "cell_type": "code",
   "execution_count": 190,
   "id": "3a2b8cf7-ae61-444d-90a3-8611caf5c545",
   "metadata": {},
   "outputs": [
    {
     "data": {
      "text/plain": [
       "sai, account Number : SBI-1001 has a balance: 1200 with interest rate: 4.0%"
      ]
     },
     "execution_count": 190,
     "metadata": {},
     "output_type": "execute_result"
    }
   ],
   "source": [
    "sai_acc1 = Account(acc_num=\"SBI-1001\", balance=1000, acc_name='sai')\n",
    "sai_acc2 = Account(acc_num=\"SBI-1001\", balance=200, acc_name='sai')\n",
    "\n",
    "new_sai_acc = sai_acc1 + sai_acc2\n",
    "new_sai_acc"
   ]
  },
  {
   "cell_type": "code",
   "execution_count": 191,
   "id": "ab80d7b6-c302-4675-aa15-625694af556e",
   "metadata": {},
   "outputs": [],
   "source": [
    "class Account:\n",
    "    \"\"\"\n",
    "    base class implementing of class\n",
    "    \"\"\"\n",
    "    \n",
    "    __bank_name = \"SBI\"\n",
    "    def __init__(self, acc_num=None, balance=None, acc_name=None, interest_rate = 0.04):\n",
    "        if acc_num[:3] == 'SBI': \n",
    "            self.__acc_num = acc_num\n",
    "        else:\n",
    "            raise ValueError(\"Invalid account number\")\n",
    "        \n",
    "        if balance > 0:\n",
    "            self.__balance = balance\n",
    "        else:\n",
    "            raise ValueError(\"Balance cannot be negative\")\n",
    "\n",
    "        self.__acc_name = acc_name\n",
    "        self.__interest_rate = interest_rate\n",
    "\n",
    "    def __repr__(self):\n",
    "        return(f'{self.__acc_name}, account Number : {self.__acc_num} has a balance: {self.__balance} with interest rate: {self.__interest_rate*100}%')\n",
    "    \n",
    "    def __add__(self, other):\n",
    "         return Account(self.getNumber(), self.getBalance()+ other.getBalance(), self.getHolderName())\n",
    "        \n",
    "    def get_info(self):\n",
    "        print(f'{self.__acc_name}, account Number : {self.__acc_num} has a balance: {self.__balance} with interest rate: {self.__interest_rate*100}%')\n",
    "\n",
    "    @classmethod\n",
    "    def print_bank(cls):\n",
    "        print(f\"The name of the bank : {cls.__bank_name}\")\n",
    "\n",
    "    def addBalance(self, amount):\n",
    "        if amount < 0:\n",
    "            raise ValueError(\"Balance cannot be negative\")\n",
    "        self.__balance += amount\n",
    "\n",
    "    def removeBalance(self, amount):\n",
    "        if amount < 0:\n",
    "            raise ValueError(\"Balance cannot be negative\")\n",
    "            \n",
    "        if amount > self.__balance:\n",
    "            raise ValueError(\"Insufficient funds\")\n",
    "        self.__balance -= amount\n",
    "        \n",
    "    def getBalance(self):\n",
    "        return self.__balance\n",
    "    \n",
    "    def getNumber(self):\n",
    "        return self.__acc_num\n",
    "    \n",
    "    def getHolderName(self):\n",
    "        return self.__acc_name\n",
    "    \n",
    "    def getInterestRate(self):\n",
    "        return self.__interest_rate\n",
    "\n",
    "    @staticmethod\n",
    "    def callInterestRate(balance, time, interest):\n",
    "        return (balance * interest * time) / 12\n",
    "\n",
    "    def callInterestSum(self, time):\n",
    "        return self.callInterestRate(self.__balance, time, self.__interest_rate)\n",
    "    \n",
    "    @property\n",
    "    def balance(self):\n",
    "        return self.__balance\n",
    "    \n",
    "    @property\n",
    "    def acc_name(self):\n",
    "        return self.__acc_name\n",
    "        \n",
    "\n",
    "    "
   ]
  },
  {
   "cell_type": "code",
   "execution_count": 192,
   "id": "d81e12ea-3838-4ca2-a37a-4928339c66d6",
   "metadata": {},
   "outputs": [],
   "source": [
    "sai_acc = Account(acc_num=\"SBI-1001\", balance=1000, acc_name='sai')"
   ]
  },
  {
   "cell_type": "code",
   "execution_count": 195,
   "id": "3bbcabf5-113d-40c9-8de5-465d53287af0",
   "metadata": {},
   "outputs": [
    {
     "data": {
      "text/plain": [
       "1000"
      ]
     },
     "execution_count": 195,
     "metadata": {},
     "output_type": "execute_result"
    }
   ],
   "source": [
    "sai_acc.balance"
   ]
  },
  {
   "cell_type": "code",
   "execution_count": 196,
   "id": "9bec196e-1322-4eb9-8724-162e454c7982",
   "metadata": {},
   "outputs": [
    {
     "data": {
      "text/plain": [
       "1000"
      ]
     },
     "execution_count": 196,
     "metadata": {},
     "output_type": "execute_result"
    }
   ],
   "source": [
    "sai_acc.getBalance()"
   ]
  },
  {
   "cell_type": "code",
   "execution_count": 197,
   "id": "c209158b-0e7c-41d6-9f9f-4d8cb2c338ca",
   "metadata": {},
   "outputs": [],
   "source": [
    "class Account:\n",
    "    \"\"\"\n",
    "    base class implementing of class\n",
    "    \"\"\"\n",
    "    \n",
    "    __bank_name = \"SBI\"\n",
    "    def __init__(self, acc_num=None, balance=None, acc_name=None, interest_rate = 0.04):\n",
    "        if acc_num[:3] == 'SBI': \n",
    "            self.__acc_num = acc_num\n",
    "        else:\n",
    "            raise ValueError(\"Invalid account number\")\n",
    "        \n",
    "        if balance > 0:\n",
    "            self.__balance = balance\n",
    "        else:\n",
    "            raise ValueError(\"Balance cannot be negative\")\n",
    "\n",
    "        self.__acc_name = acc_name\n",
    "        self.__interest_rate = interest_rate\n",
    "\n",
    "    def __repr__(self):\n",
    "        return(f'{self.__acc_name}, account Number : {self.__acc_num} has a balance: {self.__balance} with interest rate: {self.__interest_rate*100}%')\n",
    "\n",
    "    def __add__(self, other):\n",
    "         return Account(self.getNumber(), self.getBalance()+ other.getBalance(), self.getHolderName())\n",
    "\n",
    "    def get_info(self):\n",
    "        print(f'{self.__acc_name}, account Number : {self.__acc_num} has a balance: {self.__balance} with interest rate: {self.__interest_rate*100}%')\n",
    "\n",
    "    @classmethod\n",
    "    def print_bank(cls):\n",
    "        print(f\"The name of the bank : {cls.__bank_name}\")\n",
    "\n",
    "    def addBalance(self, amount):\n",
    "        if amount < 0:\n",
    "            raise ValueError(\"Balance cannot be negative\")\n",
    "        self.__balance += amount\n",
    "\n",
    "    def removeBalance(self, amount):\n",
    "        if amount < 0:\n",
    "            raise ValueError(\"Balance cannot be negative\")\n",
    "            \n",
    "        if amount > self.__balance:\n",
    "            raise ValueError(\"Insufficient funds\")\n",
    "        self.__balance -= amount\n",
    "        \n",
    "    def getBalance(self):\n",
    "        return self.__balance\n",
    "    \n",
    "    def getNumber(self):\n",
    "        return self.__acc_num\n",
    "    \n",
    "    def getHolderName(self):\n",
    "        return self.__acc_name\n",
    "    \n",
    "    def getInterestRate(self):\n",
    "        return self.__interest_rate\n",
    "\n",
    "    @staticmethod\n",
    "    def callInterestRate(balance, time, interest):\n",
    "        return (balance * interest * time) / 12\n",
    "\n",
    "    def callInterestSum(self, time):\n",
    "        return self.callInterestRate(self.__balance, time, self.__interest_rate)\n",
    "\n",
    "    @property\n",
    "    def balance(self):\n",
    "        return self.__balance\n",
    "\n",
    "    @property\n",
    "    def acc_name(self):\n",
    "        return self.__acc_name\n",
    "\n",
    "    @balance.setter\n",
    "    def addBalance(self, amount):\n",
    "        if amount < 0:\n",
    "            raise ValueError(\"Balance cannot be negative\")\n",
    "        self.__balance += amount\n",
    "    "
   ]
  },
  {
   "cell_type": "code",
   "execution_count": 198,
   "id": "eea01fce-347b-4cac-ab47-1adb6989bfda",
   "metadata": {},
   "outputs": [],
   "source": [
    "sai_acc = Account(acc_num=\"SBI-1001\", balance=1000, acc_name='sai')"
   ]
  },
  {
   "cell_type": "code",
   "execution_count": 199,
   "id": "f7ac0245-77ae-459b-887f-72cb99f80d5f",
   "metadata": {},
   "outputs": [
    {
     "data": {
      "text/plain": [
       "1000"
      ]
     },
     "execution_count": 199,
     "metadata": {},
     "output_type": "execute_result"
    }
   ],
   "source": [
    "sai_acc.balance"
   ]
  },
  {
   "cell_type": "code",
   "execution_count": 200,
   "id": "79765892-3780-4034-9533-99562f8d7e61",
   "metadata": {},
   "outputs": [
    {
     "data": {
      "text/plain": [
       "3000"
      ]
     },
     "execution_count": 200,
     "metadata": {},
     "output_type": "execute_result"
    }
   ],
   "source": [
    "sai_acc.addBalance = 2000\n",
    "sai_acc.balance"
   ]
  },
  {
   "cell_type": "code",
   "execution_count": null,
   "id": "28d0ebf3-b4c4-430a-9143-ad3dcf723de1",
   "metadata": {},
   "outputs": [],
   "source": []
  }
 ],
 "metadata": {
  "kernelspec": {
   "display_name": "Python 3 (ipykernel)",
   "language": "python",
   "name": "python3"
  },
  "language_info": {
   "codemirror_mode": {
    "name": "ipython",
    "version": 3
   },
   "file_extension": ".py",
   "mimetype": "text/x-python",
   "name": "python",
   "nbconvert_exporter": "python",
   "pygments_lexer": "ipython3",
   "version": "3.9.7"
  }
 },
 "nbformat": 4,
 "nbformat_minor": 5
}
